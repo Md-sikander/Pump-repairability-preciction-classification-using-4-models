{
  "nbformat": 4,
  "nbformat_minor": 0,
  "metadata": {
    "colab": {
      "name": "Prediction of pump repairability in african countries.ipynb",
      "provenance": [],
      "collapsed_sections": []
    },
    "kernelspec": {
      "name": "python3",
      "display_name": "Python 3"
    }
  },
  "cells": [
    {
      "cell_type": "markdown",
      "metadata": {
        "id": "_eI-uyFEfS13"
      },
      "source": [
        "# PART1: DATA EXLORATION AND VISUALISATION"
      ]
    },
    {
      "cell_type": "code",
      "metadata": {
        "id": "U9qqUHDrQhPp"
      },
      "source": [
        "# IMPORTING ALL THE IMPORTANT LIBRARIES\n",
        "import pandas as pd\n",
        "import numpy as np\n",
        "import matplotlib as mpl\n",
        "import scipy as sp\n",
        "import matplotlib.pyplot as plt\n",
        "import seaborn as sns"
      ],
      "execution_count": null,
      "outputs": []
    },
    {
      "cell_type": "code",
      "metadata": {
        "id": "RgJoNKq3RPbe"
      },
      "source": [
        "#reading the training as well as testing file\n",
        "data_train = pd.read_csv(\"Train.csv\")\n",
        "data_test = pd.read_csv(\"test.csv\")"
      ],
      "execution_count": null,
      "outputs": []
    },
    {
      "cell_type": "code",
      "metadata": {
        "id": "MLevWcHXitTW"
      },
      "source": [
        "data_training = data_train.drop(columns=[\"status_group\"]) # dropping the target values"
      ],
      "execution_count": null,
      "outputs": []
    },
    {
      "cell_type": "code",
      "metadata": {
        "colab": {
          "base_uri": "https://localhost:8080/",
          "height": 400
        },
        "id": "H8xgEU7Hi1hO",
        "outputId": "608276f7-cc51-4f7c-bc4d-291595b0ce45"
      },
      "source": [
        "# looking the data and understanding the important features\n",
        "data_train.head()  # printing only the first five values"
      ],
      "execution_count": null,
      "outputs": [
        {
          "output_type": "execute_result",
          "data": {
            "text/html": [
              "<div>\n",
              "<style scoped>\n",
              "    .dataframe tbody tr th:only-of-type {\n",
              "        vertical-align: middle;\n",
              "    }\n",
              "\n",
              "    .dataframe tbody tr th {\n",
              "        vertical-align: top;\n",
              "    }\n",
              "\n",
              "    .dataframe thead th {\n",
              "        text-align: right;\n",
              "    }\n",
              "</style>\n",
              "<table border=\"1\" class=\"dataframe\">\n",
              "  <thead>\n",
              "    <tr style=\"text-align: right;\">\n",
              "      <th></th>\n",
              "      <th>id</th>\n",
              "      <th>amount_tsh</th>\n",
              "      <th>date_recorded</th>\n",
              "      <th>funder</th>\n",
              "      <th>gps_height</th>\n",
              "      <th>installer</th>\n",
              "      <th>longitude</th>\n",
              "      <th>latitude</th>\n",
              "      <th>wpt_name</th>\n",
              "      <th>num_private</th>\n",
              "      <th>basin</th>\n",
              "      <th>subvillage</th>\n",
              "      <th>region</th>\n",
              "      <th>region_code</th>\n",
              "      <th>district_code</th>\n",
              "      <th>lga</th>\n",
              "      <th>ward</th>\n",
              "      <th>population</th>\n",
              "      <th>public_meeting</th>\n",
              "      <th>recorded_by</th>\n",
              "      <th>scheme_management</th>\n",
              "      <th>scheme_name</th>\n",
              "      <th>permit</th>\n",
              "      <th>construction_year</th>\n",
              "      <th>extraction_type</th>\n",
              "      <th>extraction_type_group</th>\n",
              "      <th>extraction_type_class</th>\n",
              "      <th>management</th>\n",
              "      <th>management_group</th>\n",
              "      <th>payment</th>\n",
              "      <th>payment_type</th>\n",
              "      <th>water_quality</th>\n",
              "      <th>quality_group</th>\n",
              "      <th>quantity</th>\n",
              "      <th>quantity_group</th>\n",
              "      <th>source</th>\n",
              "      <th>source_type</th>\n",
              "      <th>source_class</th>\n",
              "      <th>waterpoint_type</th>\n",
              "      <th>waterpoint_type_group</th>\n",
              "      <th>status_group</th>\n",
              "    </tr>\n",
              "  </thead>\n",
              "  <tbody>\n",
              "    <tr>\n",
              "      <th>0</th>\n",
              "      <td>7411</td>\n",
              "      <td>7.0</td>\n",
              "      <td>2013-03-20</td>\n",
              "      <td>Germany Republi</td>\n",
              "      <td>1203</td>\n",
              "      <td>CES</td>\n",
              "      <td>37.228664</td>\n",
              "      <td>-3.256505</td>\n",
              "      <td>Kwa Abdalla</td>\n",
              "      <td>0</td>\n",
              "      <td>Pangani</td>\n",
              "      <td>Mafurini</td>\n",
              "      <td>Kilimanjaro</td>\n",
              "      <td>3</td>\n",
              "      <td>5</td>\n",
              "      <td>Hai</td>\n",
              "      <td>Machame Kaskazini</td>\n",
              "      <td>90</td>\n",
              "      <td>True</td>\n",
              "      <td>GeoData Consultants Ltd</td>\n",
              "      <td>Water Board</td>\n",
              "      <td>Machame water supply</td>\n",
              "      <td>True</td>\n",
              "      <td>2008</td>\n",
              "      <td>gravity</td>\n",
              "      <td>gravity</td>\n",
              "      <td>gravity</td>\n",
              "      <td>water board</td>\n",
              "      <td>user-group</td>\n",
              "      <td>pay per bucket</td>\n",
              "      <td>per bucket</td>\n",
              "      <td>soft</td>\n",
              "      <td>good</td>\n",
              "      <td>enough</td>\n",
              "      <td>enough</td>\n",
              "      <td>spring</td>\n",
              "      <td>spring</td>\n",
              "      <td>groundwater</td>\n",
              "      <td>communal standpipe</td>\n",
              "      <td>communal standpipe</td>\n",
              "      <td>functional</td>\n",
              "    </tr>\n",
              "    <tr>\n",
              "      <th>1</th>\n",
              "      <td>18014</td>\n",
              "      <td>0.0</td>\n",
              "      <td>2011-02-21</td>\n",
              "      <td>Cdtf</td>\n",
              "      <td>1409</td>\n",
              "      <td>CDTF</td>\n",
              "      <td>34.615481</td>\n",
              "      <td>-9.972601</td>\n",
              "      <td>none</td>\n",
              "      <td>0</td>\n",
              "      <td>Lake Nyasa</td>\n",
              "      <td>Ituni</td>\n",
              "      <td>Iringa</td>\n",
              "      <td>11</td>\n",
              "      <td>5</td>\n",
              "      <td>Ludewa</td>\n",
              "      <td>Luana</td>\n",
              "      <td>70</td>\n",
              "      <td>False</td>\n",
              "      <td>GeoData Consultants Ltd</td>\n",
              "      <td>Private operator</td>\n",
              "      <td>Mgowel</td>\n",
              "      <td>False</td>\n",
              "      <td>1984</td>\n",
              "      <td>gravity</td>\n",
              "      <td>gravity</td>\n",
              "      <td>gravity</td>\n",
              "      <td>private operator</td>\n",
              "      <td>commercial</td>\n",
              "      <td>never pay</td>\n",
              "      <td>never pay</td>\n",
              "      <td>soft</td>\n",
              "      <td>good</td>\n",
              "      <td>enough</td>\n",
              "      <td>enough</td>\n",
              "      <td>spring</td>\n",
              "      <td>spring</td>\n",
              "      <td>groundwater</td>\n",
              "      <td>communal standpipe</td>\n",
              "      <td>communal standpipe</td>\n",
              "      <td>functional</td>\n",
              "    </tr>\n",
              "    <tr>\n",
              "      <th>2</th>\n",
              "      <td>26103</td>\n",
              "      <td>0.0</td>\n",
              "      <td>2013-01-04</td>\n",
              "      <td>Government Of Tanzania</td>\n",
              "      <td>1572</td>\n",
              "      <td>DWE</td>\n",
              "      <td>36.658778</td>\n",
              "      <td>-3.321529</td>\n",
              "      <td>Kwa Loishiye</td>\n",
              "      <td>0</td>\n",
              "      <td>Pangani</td>\n",
              "      <td>Melebuki</td>\n",
              "      <td>Arusha</td>\n",
              "      <td>2</td>\n",
              "      <td>2</td>\n",
              "      <td>Arusha Rural</td>\n",
              "      <td>Kimnyaki</td>\n",
              "      <td>150</td>\n",
              "      <td>True</td>\n",
              "      <td>GeoData Consultants Ltd</td>\n",
              "      <td>VWC</td>\n",
              "      <td>Saitero olosaita pipe line</td>\n",
              "      <td>True</td>\n",
              "      <td>2002</td>\n",
              "      <td>gravity</td>\n",
              "      <td>gravity</td>\n",
              "      <td>gravity</td>\n",
              "      <td>vwc</td>\n",
              "      <td>user-group</td>\n",
              "      <td>never pay</td>\n",
              "      <td>never pay</td>\n",
              "      <td>soft</td>\n",
              "      <td>good</td>\n",
              "      <td>insufficient</td>\n",
              "      <td>insufficient</td>\n",
              "      <td>spring</td>\n",
              "      <td>spring</td>\n",
              "      <td>groundwater</td>\n",
              "      <td>communal standpipe</td>\n",
              "      <td>communal standpipe</td>\n",
              "      <td>non functional</td>\n",
              "    </tr>\n",
              "    <tr>\n",
              "      <th>3</th>\n",
              "      <td>31140</td>\n",
              "      <td>0.0</td>\n",
              "      <td>2011-04-03</td>\n",
              "      <td>District Council</td>\n",
              "      <td>0</td>\n",
              "      <td>District Council</td>\n",
              "      <td>33.628025</td>\n",
              "      <td>-8.860795</td>\n",
              "      <td>Mwanzechele</td>\n",
              "      <td>0</td>\n",
              "      <td>Rufiji</td>\n",
              "      <td>Darajani</td>\n",
              "      <td>Mbeya</td>\n",
              "      <td>12</td>\n",
              "      <td>2</td>\n",
              "      <td>Mbeya Rural</td>\n",
              "      <td>Inyala</td>\n",
              "      <td>0</td>\n",
              "      <td>True</td>\n",
              "      <td>GeoData Consultants Ltd</td>\n",
              "      <td>VWC</td>\n",
              "      <td>NaN</td>\n",
              "      <td>True</td>\n",
              "      <td>0</td>\n",
              "      <td>gravity</td>\n",
              "      <td>gravity</td>\n",
              "      <td>gravity</td>\n",
              "      <td>wug</td>\n",
              "      <td>user-group</td>\n",
              "      <td>pay annually</td>\n",
              "      <td>annually</td>\n",
              "      <td>soft</td>\n",
              "      <td>good</td>\n",
              "      <td>insufficient</td>\n",
              "      <td>insufficient</td>\n",
              "      <td>river</td>\n",
              "      <td>river/lake</td>\n",
              "      <td>surface</td>\n",
              "      <td>communal standpipe</td>\n",
              "      <td>communal standpipe</td>\n",
              "      <td>functional</td>\n",
              "    </tr>\n",
              "    <tr>\n",
              "      <th>4</th>\n",
              "      <td>12286</td>\n",
              "      <td>300.0</td>\n",
              "      <td>2013-03-08</td>\n",
              "      <td>District Council</td>\n",
              "      <td>1283</td>\n",
              "      <td>District Council</td>\n",
              "      <td>37.655509</td>\n",
              "      <td>-3.669777</td>\n",
              "      <td>Kwa Kidaya</td>\n",
              "      <td>0</td>\n",
              "      <td>Pangani</td>\n",
              "      <td>Mwira A</td>\n",
              "      <td>Kilimanjaro</td>\n",
              "      <td>3</td>\n",
              "      <td>2</td>\n",
              "      <td>Mwanga</td>\n",
              "      <td>Shinghatini</td>\n",
              "      <td>34</td>\n",
              "      <td>True</td>\n",
              "      <td>GeoData Consultants Ltd</td>\n",
              "      <td>VWC</td>\n",
              "      <td>Churu water supply</td>\n",
              "      <td>False</td>\n",
              "      <td>2007</td>\n",
              "      <td>gravity</td>\n",
              "      <td>gravity</td>\n",
              "      <td>gravity</td>\n",
              "      <td>vwc</td>\n",
              "      <td>user-group</td>\n",
              "      <td>pay monthly</td>\n",
              "      <td>monthly</td>\n",
              "      <td>soft</td>\n",
              "      <td>good</td>\n",
              "      <td>insufficient</td>\n",
              "      <td>insufficient</td>\n",
              "      <td>spring</td>\n",
              "      <td>spring</td>\n",
              "      <td>groundwater</td>\n",
              "      <td>communal standpipe</td>\n",
              "      <td>communal standpipe</td>\n",
              "      <td>functional</td>\n",
              "    </tr>\n",
              "  </tbody>\n",
              "</table>\n",
              "</div>"
            ],
            "text/plain": [
              "      id  amount_tsh  ... waterpoint_type_group    status_group\n",
              "0   7411         7.0  ...    communal standpipe      functional\n",
              "1  18014         0.0  ...    communal standpipe      functional\n",
              "2  26103         0.0  ...    communal standpipe  non functional\n",
              "3  31140         0.0  ...    communal standpipe      functional\n",
              "4  12286       300.0  ...    communal standpipe      functional\n",
              "\n",
              "[5 rows x 41 columns]"
            ]
          },
          "metadata": {
            "tags": []
          },
          "execution_count": 4
        }
      ]
    },
    {
      "cell_type": "code",
      "metadata": {
        "id": "S4DlTBfRjMhi"
      },
      "source": [
        "target_value=data_train[\"status_group\"]  # here we are generating the target values"
      ],
      "execution_count": null,
      "outputs": []
    },
    {
      "cell_type": "code",
      "metadata": {
        "colab": {
          "base_uri": "https://localhost:8080/"
        },
        "id": "rQ4Ipe5-kZxP",
        "outputId": "08c48ee4-24da-40c1-ea24-29651467d6ed"
      },
      "source": [
        "target_value.head()"
      ],
      "execution_count": null,
      "outputs": [
        {
          "output_type": "execute_result",
          "data": {
            "text/plain": [
              "0        functional\n",
              "1        functional\n",
              "2    non functional\n",
              "3        functional\n",
              "4        functional\n",
              "Name: status_group, dtype: object"
            ]
          },
          "metadata": {
            "tags": []
          },
          "execution_count": 6
        }
      ]
    },
    {
      "cell_type": "markdown",
      "metadata": {
        "id": "3zn-xZv5kkJm"
      },
      "source": [
        "ANALYSIS OF THE TARGET VALUES:\n",
        "HERE IN TARGET VALUES WE ARE HAVING THREE DIFFERENT TYPES OF PUMPS:\n",
        "CLASSIFYING THE PUMPS INTO THREE DIFFRENT CLASSES NAMELY :\n",
        "\n",
        "**FUNCTIONAL** :\n",
        "\n",
        "**NON_FUNCTIONAL** :\n",
        "\n",
        "**FUNCTIONAL NEEDS REPAIR**: \n"
      ]
    },
    {
      "cell_type": "markdown",
      "metadata": {
        "id": "9verTz_clUUF"
      },
      "source": [
        "# TRAINING FEATURES"
      ]
    },
    {
      "cell_type": "code",
      "metadata": {
        "colab": {
          "base_uri": "https://localhost:8080/"
        },
        "id": "8t9iSlEWlaFf",
        "outputId": "d42288e0-8244-45e7-b828-7bae1728153c"
      },
      "source": [
        "# COLUMN HEADERS OF THE TRAINING FEATURES\n",
        "data_train.columns.values"
      ],
      "execution_count": null,
      "outputs": [
        {
          "output_type": "execute_result",
          "data": {
            "text/plain": [
              "array(['id', 'amount_tsh', 'date_recorded', 'funder', 'gps_height',\n",
              "       'installer', 'longitude', 'latitude', 'wpt_name', 'num_private',\n",
              "       'basin', 'subvillage', 'region', 'region_code', 'district_code',\n",
              "       'lga', 'ward', 'population', 'public_meeting', 'recorded_by',\n",
              "       'scheme_management', 'scheme_name', 'permit', 'construction_year',\n",
              "       'extraction_type', 'extraction_type_group',\n",
              "       'extraction_type_class', 'management', 'management_group',\n",
              "       'payment', 'payment_type', 'water_quality', 'quality_group',\n",
              "       'quantity', 'quantity_group', 'source', 'source_type',\n",
              "       'source_class', 'waterpoint_type', 'waterpoint_type_group',\n",
              "       'status_group'], dtype=object)"
            ]
          },
          "metadata": {
            "tags": []
          },
          "execution_count": 7
        }
      ]
    },
    {
      "cell_type": "markdown",
      "metadata": {
        "id": "C_QI80kBltts"
      },
      "source": [
        "# ESTIMATING EACH TYPES OF PUMP WHICH IS BEING AVAILABLE IN THE TRAINING FILE"
      ]
    },
    {
      "cell_type": "code",
      "metadata": {
        "colab": {
          "base_uri": "https://localhost:8080/"
        },
        "id": "umkNAfqFl1mF",
        "outputId": "6a9fe4e6-9605-4b67-e4f1-4765e9097972"
      },
      "source": [
        "target_value.value_counts()"
      ],
      "execution_count": null,
      "outputs": [
        {
          "output_type": "execute_result",
          "data": {
            "text/plain": [
              "functional                 24194\n",
              "non functional             17118\n",
              "functional needs repair     3238\n",
              "Name: status_group, dtype: int64"
            ]
          },
          "metadata": {
            "tags": []
          },
          "execution_count": 8
        }
      ]
    },
    {
      "cell_type": "code",
      "metadata": {
        "colab": {
          "base_uri": "https://localhost:8080/",
          "height": 355
        },
        "id": "2uINXXU4mDE-",
        "outputId": "b0655656-9f32-4ce4-d41d-69e842c487a4"
      },
      "source": [
        "#plotting the curve of each type of the pumps:\n",
        "sns.countplot(target_value)"
      ],
      "execution_count": null,
      "outputs": [
        {
          "output_type": "stream",
          "text": [
            "/usr/local/lib/python3.7/dist-packages/seaborn/_decorators.py:43: FutureWarning: Pass the following variable as a keyword arg: x. From version 0.12, the only valid positional argument will be `data`, and passing other arguments without an explicit keyword will result in an error or misinterpretation.\n",
            "  FutureWarning\n"
          ],
          "name": "stderr"
        },
        {
          "output_type": "execute_result",
          "data": {
            "text/plain": [
              "<matplotlib.axes._subplots.AxesSubplot at 0x7f8654b72910>"
            ]
          },
          "metadata": {
            "tags": []
          },
          "execution_count": 9
        },
        {
          "output_type": "display_data",
          "data": {
            "image/png": "[encoded data removed]",
            "text/plain": [
              "<Figure size 432x288 with 1 Axes>"
            ]
          },
          "metadata": {
            "tags": [],
            "needs_background": "light"
          }
        }
      ]
    },
    {
      "cell_type": "markdown",
      "metadata": {
        "id": "_6d1i4IBmY72"
      },
      "source": [
        "COMMENT:\n",
        "FROM THE ABOVE OBSERVATION WE CAN SAY THAT THERE ARE AROUND 56% OF PUMPS WHICH ARE WORKING (FUNCTIONAL), AROUND (36% ARE NON_FUNCTIONAL AND ROUGHLY 8% ARE FUNCTIONAL NEED REPAIR"
      ]
    },
    {
      "cell_type": "markdown",
      "metadata": {
        "id": "9gfTQe-4m4c9"
      },
      "source": [
        "# PART-2:VARIABLE TRANSFORMATION, FEATURE ENGINEERING, FEATURE SELECTION OR ELIMINATION"
      ]
    },
    {
      "cell_type": "markdown",
      "metadata": {
        "id": "17e5NDoanr72"
      },
      "source": [
        "cleaning the unnecessary data from the training file"
      ]
    },
    {
      "cell_type": "code",
      "metadata": {
        "colab": {
          "base_uri": "https://localhost:8080/",
          "height": 808
        },
        "id": "-zypf38vnTNA",
        "outputId": "88602dae-f042-4089-8207-e414b6cde771"
      },
      "source": [
        "data_train"
      ],
      "execution_count": null,
      "outputs": [
        {
          "output_type": "execute_result",
          "data": {
            "text/html": [
              "<div>\n",
              "<style scoped>\n",
              "    .dataframe tbody tr th:only-of-type {\n",
              "        vertical-align: middle;\n",
              "    }\n",
              "\n",
              "    .dataframe tbody tr th {\n",
              "        vertical-align: top;\n",
              "    }\n",
              "\n",
              "    .dataframe thead th {\n",
              "        text-align: right;\n",
              "    }\n",
              "</style>\n",
              "<table border=\"1\" class=\"dataframe\">\n",
              "  <thead>\n",
              "    <tr style=\"text-align: right;\">\n",
              "      <th></th>\n",
              "      <th>id</th>\n",
              "      <th>amount_tsh</th>\n",
              "      <th>date_recorded</th>\n",
              "      <th>funder</th>\n",
              "      <th>gps_height</th>\n",
              "      <th>installer</th>\n",
              "      <th>longitude</th>\n",
              "      <th>latitude</th>\n",
              "      <th>wpt_name</th>\n",
              "      <th>num_private</th>\n",
              "      <th>basin</th>\n",
              "      <th>subvillage</th>\n",
              "      <th>region</th>\n",
              "      <th>region_code</th>\n",
              "      <th>district_code</th>\n",
              "      <th>lga</th>\n",
              "      <th>ward</th>\n",
              "      <th>population</th>\n",
              "      <th>public_meeting</th>\n",
              "      <th>recorded_by</th>\n",
              "      <th>scheme_management</th>\n",
              "      <th>scheme_name</th>\n",
              "      <th>permit</th>\n",
              "      <th>construction_year</th>\n",
              "      <th>extraction_type</th>\n",
              "      <th>extraction_type_group</th>\n",
              "      <th>extraction_type_class</th>\n",
              "      <th>management</th>\n",
              "      <th>management_group</th>\n",
              "      <th>payment</th>\n",
              "      <th>payment_type</th>\n",
              "      <th>water_quality</th>\n",
              "      <th>quality_group</th>\n",
              "      <th>quantity</th>\n",
              "      <th>quantity_group</th>\n",
              "      <th>source</th>\n",
              "      <th>source_type</th>\n",
              "      <th>source_class</th>\n",
              "      <th>waterpoint_type</th>\n",
              "      <th>waterpoint_type_group</th>\n",
              "      <th>status_group</th>\n",
              "    </tr>\n",
              "  </thead>\n",
              "  <tbody>\n",
              "    <tr>\n",
              "      <th>0</th>\n",
              "      <td>7411</td>\n",
              "      <td>7.0</td>\n",
              "      <td>2013-03-20</td>\n",
              "      <td>Germany Republi</td>\n",
              "      <td>1203</td>\n",
              "      <td>CES</td>\n",
              "      <td>37.228664</td>\n",
              "      <td>-3.256505</td>\n",
              "      <td>Kwa Abdalla</td>\n",
              "      <td>0</td>\n",
              "      <td>Pangani</td>\n",
              "      <td>Mafurini</td>\n",
              "      <td>Kilimanjaro</td>\n",
              "      <td>3</td>\n",
              "      <td>5</td>\n",
              "      <td>Hai</td>\n",
              "      <td>Machame Kaskazini</td>\n",
              "      <td>90</td>\n",
              "      <td>True</td>\n",
              "      <td>GeoData Consultants Ltd</td>\n",
              "      <td>Water Board</td>\n",
              "      <td>Machame water supply</td>\n",
              "      <td>True</td>\n",
              "      <td>2008</td>\n",
              "      <td>gravity</td>\n",
              "      <td>gravity</td>\n",
              "      <td>gravity</td>\n",
              "      <td>water board</td>\n",
              "      <td>user-group</td>\n",
              "      <td>pay per bucket</td>\n",
              "      <td>per bucket</td>\n",
              "      <td>soft</td>\n",
              "      <td>good</td>\n",
              "      <td>enough</td>\n",
              "      <td>enough</td>\n",
              "      <td>spring</td>\n",
              "      <td>spring</td>\n",
              "      <td>groundwater</td>\n",
              "      <td>communal standpipe</td>\n",
              "      <td>communal standpipe</td>\n",
              "      <td>functional</td>\n",
              "    </tr>\n",
              "    <tr>\n",
              "      <th>1</th>\n",
              "      <td>18014</td>\n",
              "      <td>0.0</td>\n",
              "      <td>2011-02-21</td>\n",
              "      <td>Cdtf</td>\n",
              "      <td>1409</td>\n",
              "      <td>CDTF</td>\n",
              "      <td>34.615481</td>\n",
              "      <td>-9.972601</td>\n",
              "      <td>none</td>\n",
              "      <td>0</td>\n",
              "      <td>Lake Nyasa</td>\n",
              "      <td>Ituni</td>\n",
              "      <td>Iringa</td>\n",
              "      <td>11</td>\n",
              "      <td>5</td>\n",
              "      <td>Ludewa</td>\n",
              "      <td>Luana</td>\n",
              "      <td>70</td>\n",
              "      <td>False</td>\n",
              "      <td>GeoData Consultants Ltd</td>\n",
              "      <td>Private operator</td>\n",
              "      <td>Mgowel</td>\n",
              "      <td>False</td>\n",
              "      <td>1984</td>\n",
              "      <td>gravity</td>\n",
              "      <td>gravity</td>\n",
              "      <td>gravity</td>\n",
              "      <td>private operator</td>\n",
              "      <td>commercial</td>\n",
              "      <td>never pay</td>\n",
              "      <td>never pay</td>\n",
              "      <td>soft</td>\n",
              "      <td>good</td>\n",
              "      <td>enough</td>\n",
              "      <td>enough</td>\n",
              "      <td>spring</td>\n",
              "      <td>spring</td>\n",
              "      <td>groundwater</td>\n",
              "      <td>communal standpipe</td>\n",
              "      <td>communal standpipe</td>\n",
              "      <td>functional</td>\n",
              "    </tr>\n",
              "    <tr>\n",
              "      <th>2</th>\n",
              "      <td>26103</td>\n",
              "      <td>0.0</td>\n",
              "      <td>2013-01-04</td>\n",
              "      <td>Government Of Tanzania</td>\n",
              "      <td>1572</td>\n",
              "      <td>DWE</td>\n",
              "      <td>36.658778</td>\n",
              "      <td>-3.321529</td>\n",
              "      <td>Kwa Loishiye</td>\n",
              "      <td>0</td>\n",
              "      <td>Pangani</td>\n",
              "      <td>Melebuki</td>\n",
              "      <td>Arusha</td>\n",
              "      <td>2</td>\n",
              "      <td>2</td>\n",
              "      <td>Arusha Rural</td>\n",
              "      <td>Kimnyaki</td>\n",
              "      <td>150</td>\n",
              "      <td>True</td>\n",
              "      <td>GeoData Consultants Ltd</td>\n",
              "      <td>VWC</td>\n",
              "      <td>Saitero olosaita pipe line</td>\n",
              "      <td>True</td>\n",
              "      <td>2002</td>\n",
              "      <td>gravity</td>\n",
              "      <td>gravity</td>\n",
              "      <td>gravity</td>\n",
              "      <td>vwc</td>\n",
              "      <td>user-group</td>\n",
              "      <td>never pay</td>\n",
              "      <td>never pay</td>\n",
              "      <td>soft</td>\n",
              "      <td>good</td>\n",
              "      <td>insufficient</td>\n",
              "      <td>insufficient</td>\n",
              "      <td>spring</td>\n",
              "      <td>spring</td>\n",
              "      <td>groundwater</td>\n",
              "      <td>communal standpipe</td>\n",
              "      <td>communal standpipe</td>\n",
              "      <td>non functional</td>\n",
              "    </tr>\n",
              "    <tr>\n",
              "      <th>3</th>\n",
              "      <td>31140</td>\n",
              "      <td>0.0</td>\n",
              "      <td>2011-04-03</td>\n",
              "      <td>District Council</td>\n",
              "      <td>0</td>\n",
              "      <td>District Council</td>\n",
              "      <td>33.628025</td>\n",
              "      <td>-8.860795</td>\n",
              "      <td>Mwanzechele</td>\n",
              "      <td>0</td>\n",
              "      <td>Rufiji</td>\n",
              "      <td>Darajani</td>\n",
              "      <td>Mbeya</td>\n",
              "      <td>12</td>\n",
              "      <td>2</td>\n",
              "      <td>Mbeya Rural</td>\n",
              "      <td>Inyala</td>\n",
              "      <td>0</td>\n",
              "      <td>True</td>\n",
              "      <td>GeoData Consultants Ltd</td>\n",
              "      <td>VWC</td>\n",
              "      <td>NaN</td>\n",
              "      <td>True</td>\n",
              "      <td>0</td>\n",
              "      <td>gravity</td>\n",
              "      <td>gravity</td>\n",
              "      <td>gravity</td>\n",
              "      <td>wug</td>\n",
              "      <td>user-group</td>\n",
              "      <td>pay annually</td>\n",
              "      <td>annually</td>\n",
              "      <td>soft</td>\n",
              "      <td>good</td>\n",
              "      <td>insufficient</td>\n",
              "      <td>insufficient</td>\n",
              "      <td>river</td>\n",
              "      <td>river/lake</td>\n",
              "      <td>surface</td>\n",
              "      <td>communal standpipe</td>\n",
              "      <td>communal standpipe</td>\n",
              "      <td>functional</td>\n",
              "    </tr>\n",
              "    <tr>\n",
              "      <th>4</th>\n",
              "      <td>12286</td>\n",
              "      <td>300.0</td>\n",
              "      <td>2013-03-08</td>\n",
              "      <td>District Council</td>\n",
              "      <td>1283</td>\n",
              "      <td>District Council</td>\n",
              "      <td>37.655509</td>\n",
              "      <td>-3.669777</td>\n",
              "      <td>Kwa Kidaya</td>\n",
              "      <td>0</td>\n",
              "      <td>Pangani</td>\n",
              "      <td>Mwira A</td>\n",
              "      <td>Kilimanjaro</td>\n",
              "      <td>3</td>\n",
              "      <td>2</td>\n",
              "      <td>Mwanga</td>\n",
              "      <td>Shinghatini</td>\n",
              "      <td>34</td>\n",
              "      <td>True</td>\n",
              "      <td>GeoData Consultants Ltd</td>\n",
              "      <td>VWC</td>\n",
              "      <td>Churu water supply</td>\n",
              "      <td>False</td>\n",
              "      <td>2007</td>\n",
              "      <td>gravity</td>\n",
              "      <td>gravity</td>\n",
              "      <td>gravity</td>\n",
              "      <td>vwc</td>\n",
              "      <td>user-group</td>\n",
              "      <td>pay monthly</td>\n",
              "      <td>monthly</td>\n",
              "      <td>soft</td>\n",
              "      <td>good</td>\n",
              "      <td>insufficient</td>\n",
              "      <td>insufficient</td>\n",
              "      <td>spring</td>\n",
              "      <td>spring</td>\n",
              "      <td>groundwater</td>\n",
              "      <td>communal standpipe</td>\n",
              "      <td>communal standpipe</td>\n",
              "      <td>functional</td>\n",
              "    </tr>\n",
              "    <tr>\n",
              "      <th>...</th>\n",
              "      <td>...</td>\n",
              "      <td>...</td>\n",
              "      <td>...</td>\n",
              "      <td>...</td>\n",
              "      <td>...</td>\n",
              "      <td>...</td>\n",
              "      <td>...</td>\n",
              "      <td>...</td>\n",
              "      <td>...</td>\n",
              "      <td>...</td>\n",
              "      <td>...</td>\n",
              "      <td>...</td>\n",
              "      <td>...</td>\n",
              "      <td>...</td>\n",
              "      <td>...</td>\n",
              "      <td>...</td>\n",
              "      <td>...</td>\n",
              "      <td>...</td>\n",
              "      <td>...</td>\n",
              "      <td>...</td>\n",
              "      <td>...</td>\n",
              "      <td>...</td>\n",
              "      <td>...</td>\n",
              "      <td>...</td>\n",
              "      <td>...</td>\n",
              "      <td>...</td>\n",
              "      <td>...</td>\n",
              "      <td>...</td>\n",
              "      <td>...</td>\n",
              "      <td>...</td>\n",
              "      <td>...</td>\n",
              "      <td>...</td>\n",
              "      <td>...</td>\n",
              "      <td>...</td>\n",
              "      <td>...</td>\n",
              "      <td>...</td>\n",
              "      <td>...</td>\n",
              "      <td>...</td>\n",
              "      <td>...</td>\n",
              "      <td>...</td>\n",
              "      <td>...</td>\n",
              "    </tr>\n",
              "    <tr>\n",
              "      <th>44545</th>\n",
              "      <td>43878</td>\n",
              "      <td>0.0</td>\n",
              "      <td>2013-01-23</td>\n",
              "      <td>World Vision</td>\n",
              "      <td>0</td>\n",
              "      <td>TAWASA</td>\n",
              "      <td>32.383715</td>\n",
              "      <td>-3.457624</td>\n",
              "      <td>Imalabuluhi</td>\n",
              "      <td>0</td>\n",
              "      <td>Lake Tanganyika</td>\n",
              "      <td>Bukenge</td>\n",
              "      <td>Shinyanga</td>\n",
              "      <td>17</td>\n",
              "      <td>3</td>\n",
              "      <td>Kahama</td>\n",
              "      <td>Segese</td>\n",
              "      <td>0</td>\n",
              "      <td>True</td>\n",
              "      <td>GeoData Consultants Ltd</td>\n",
              "      <td>NaN</td>\n",
              "      <td>NaN</td>\n",
              "      <td>True</td>\n",
              "      <td>0</td>\n",
              "      <td>nira/tanira</td>\n",
              "      <td>nira/tanira</td>\n",
              "      <td>handpump</td>\n",
              "      <td>wug</td>\n",
              "      <td>user-group</td>\n",
              "      <td>unknown</td>\n",
              "      <td>unknown</td>\n",
              "      <td>milky</td>\n",
              "      <td>milky</td>\n",
              "      <td>enough</td>\n",
              "      <td>enough</td>\n",
              "      <td>shallow well</td>\n",
              "      <td>shallow well</td>\n",
              "      <td>groundwater</td>\n",
              "      <td>hand pump</td>\n",
              "      <td>hand pump</td>\n",
              "      <td>functional</td>\n",
              "    </tr>\n",
              "    <tr>\n",
              "      <th>44546</th>\n",
              "      <td>50718</td>\n",
              "      <td>0.0</td>\n",
              "      <td>2011-07-25</td>\n",
              "      <td>Ded</td>\n",
              "      <td>0</td>\n",
              "      <td>DED</td>\n",
              "      <td>31.615509</td>\n",
              "      <td>-2.738682</td>\n",
              "      <td>Ilyamchele Center</td>\n",
              "      <td>0</td>\n",
              "      <td>Lake Victoria</td>\n",
              "      <td>Ilyamchele Center</td>\n",
              "      <td>Kagera</td>\n",
              "      <td>18</td>\n",
              "      <td>8</td>\n",
              "      <td>Chato</td>\n",
              "      <td>Katende</td>\n",
              "      <td>0</td>\n",
              "      <td>True</td>\n",
              "      <td>GeoData Consultants Ltd</td>\n",
              "      <td>WUA</td>\n",
              "      <td>NaN</td>\n",
              "      <td>True</td>\n",
              "      <td>0</td>\n",
              "      <td>afridev</td>\n",
              "      <td>afridev</td>\n",
              "      <td>handpump</td>\n",
              "      <td>wua</td>\n",
              "      <td>user-group</td>\n",
              "      <td>pay monthly</td>\n",
              "      <td>monthly</td>\n",
              "      <td>soft</td>\n",
              "      <td>good</td>\n",
              "      <td>enough</td>\n",
              "      <td>enough</td>\n",
              "      <td>hand dtw</td>\n",
              "      <td>borehole</td>\n",
              "      <td>groundwater</td>\n",
              "      <td>hand pump</td>\n",
              "      <td>hand pump</td>\n",
              "      <td>non functional</td>\n",
              "    </tr>\n",
              "    <tr>\n",
              "      <th>44547</th>\n",
              "      <td>67177</td>\n",
              "      <td>0.0</td>\n",
              "      <td>2013-02-23</td>\n",
              "      <td>Government Of Tanzania</td>\n",
              "      <td>969</td>\n",
              "      <td>Government</td>\n",
              "      <td>35.134412</td>\n",
              "      <td>-10.676062</td>\n",
              "      <td>Kwa Mzee Maondo</td>\n",
              "      <td>0</td>\n",
              "      <td>Ruvuma / Southern Coast</td>\n",
              "      <td>Masango</td>\n",
              "      <td>Ruvuma</td>\n",
              "      <td>10</td>\n",
              "      <td>3</td>\n",
              "      <td>Mbinga</td>\n",
              "      <td>Kigonsera</td>\n",
              "      <td>60</td>\n",
              "      <td>NaN</td>\n",
              "      <td>GeoData Consultants Ltd</td>\n",
              "      <td>VWC</td>\n",
              "      <td>Government</td>\n",
              "      <td>NaN</td>\n",
              "      <td>1977</td>\n",
              "      <td>gravity</td>\n",
              "      <td>gravity</td>\n",
              "      <td>gravity</td>\n",
              "      <td>vwc</td>\n",
              "      <td>user-group</td>\n",
              "      <td>unknown</td>\n",
              "      <td>unknown</td>\n",
              "      <td>soft</td>\n",
              "      <td>good</td>\n",
              "      <td>seasonal</td>\n",
              "      <td>seasonal</td>\n",
              "      <td>spring</td>\n",
              "      <td>spring</td>\n",
              "      <td>groundwater</td>\n",
              "      <td>communal standpipe</td>\n",
              "      <td>communal standpipe</td>\n",
              "      <td>functional</td>\n",
              "    </tr>\n",
              "    <tr>\n",
              "      <th>44548</th>\n",
              "      <td>2744</td>\n",
              "      <td>200.0</td>\n",
              "      <td>2013-03-26</td>\n",
              "      <td>Adra</td>\n",
              "      <td>1269</td>\n",
              "      <td>ADRA/Government</td>\n",
              "      <td>37.886287</td>\n",
              "      <td>-4.390882</td>\n",
              "      <td>Miembeni</td>\n",
              "      <td>0</td>\n",
              "      <td>Pangani</td>\n",
              "      <td>Mng'Ende</td>\n",
              "      <td>Kilimanjaro</td>\n",
              "      <td>3</td>\n",
              "      <td>3</td>\n",
              "      <td>Same</td>\n",
              "      <td>Suji</td>\n",
              "      <td>80</td>\n",
              "      <td>True</td>\n",
              "      <td>GeoData Consultants Ltd</td>\n",
              "      <td>Water authority</td>\n",
              "      <td>Kiumba water supply</td>\n",
              "      <td>True</td>\n",
              "      <td>2011</td>\n",
              "      <td>gravity</td>\n",
              "      <td>gravity</td>\n",
              "      <td>gravity</td>\n",
              "      <td>vwc</td>\n",
              "      <td>user-group</td>\n",
              "      <td>pay monthly</td>\n",
              "      <td>monthly</td>\n",
              "      <td>soft</td>\n",
              "      <td>good</td>\n",
              "      <td>insufficient</td>\n",
              "      <td>insufficient</td>\n",
              "      <td>spring</td>\n",
              "      <td>spring</td>\n",
              "      <td>groundwater</td>\n",
              "      <td>communal standpipe</td>\n",
              "      <td>communal standpipe</td>\n",
              "      <td>functional</td>\n",
              "    </tr>\n",
              "    <tr>\n",
              "      <th>44549</th>\n",
              "      <td>10262</td>\n",
              "      <td>0.0</td>\n",
              "      <td>2013-01-26</td>\n",
              "      <td>World Vision</td>\n",
              "      <td>0</td>\n",
              "      <td>Consulting Engineer</td>\n",
              "      <td>32.976560</td>\n",
              "      <td>-4.262149</td>\n",
              "      <td>Itunda A Mkwajuni</td>\n",
              "      <td>0</td>\n",
              "      <td>Lake Tanganyika</td>\n",
              "      <td>Itunda A</td>\n",
              "      <td>Tabora</td>\n",
              "      <td>14</td>\n",
              "      <td>1</td>\n",
              "      <td>Nzega</td>\n",
              "      <td>Karitu</td>\n",
              "      <td>0</td>\n",
              "      <td>True</td>\n",
              "      <td>GeoData Consultants Ltd</td>\n",
              "      <td>VWC</td>\n",
              "      <td>NaN</td>\n",
              "      <td>False</td>\n",
              "      <td>0</td>\n",
              "      <td>nira/tanira</td>\n",
              "      <td>nira/tanira</td>\n",
              "      <td>handpump</td>\n",
              "      <td>vwc</td>\n",
              "      <td>user-group</td>\n",
              "      <td>pay when scheme fails</td>\n",
              "      <td>on failure</td>\n",
              "      <td>soft</td>\n",
              "      <td>good</td>\n",
              "      <td>enough</td>\n",
              "      <td>enough</td>\n",
              "      <td>shallow well</td>\n",
              "      <td>shallow well</td>\n",
              "      <td>groundwater</td>\n",
              "      <td>hand pump</td>\n",
              "      <td>hand pump</td>\n",
              "      <td>functional</td>\n",
              "    </tr>\n",
              "  </tbody>\n",
              "</table>\n",
              "<p>44550 rows × 41 columns</p>\n",
              "</div>"
            ],
            "text/plain": [
              "          id  amount_tsh  ... waterpoint_type_group    status_group\n",
              "0       7411         7.0  ...    communal standpipe      functional\n",
              "1      18014         0.0  ...    communal standpipe      functional\n",
              "2      26103         0.0  ...    communal standpipe  non functional\n",
              "3      31140         0.0  ...    communal standpipe      functional\n",
              "4      12286       300.0  ...    communal standpipe      functional\n",
              "...      ...         ...  ...                   ...             ...\n",
              "44545  43878         0.0  ...             hand pump      functional\n",
              "44546  50718         0.0  ...             hand pump  non functional\n",
              "44547  67177         0.0  ...    communal standpipe      functional\n",
              "44548   2744       200.0  ...    communal standpipe      functional\n",
              "44549  10262         0.0  ...             hand pump      functional\n",
              "\n",
              "[44550 rows x 41 columns]"
            ]
          },
          "metadata": {
            "tags": []
          },
          "execution_count": 10
        }
      ]
    },
    {
      "cell_type": "code",
      "metadata": {
        "id": "pG5wvlIkZ4--"
      },
      "source": [
        "# train_data.drop([\"funder\",\"installer\",\"wpt_name\",\"num_private\",\"subvillage\",\"public_meeting\",\"recorded_by\",\"scheme_management\",\"scheme_name\",\"permit\",\"extraction_type_group\",\"extraction_type\",\"quantity\",\"source\",\"waterpoint_type\"], axis =1)  #removing unnecessary columns"
      ],
      "execution_count": null,
      "outputs": []
    },
    {
      "cell_type": "code",
      "metadata": {
        "colab": {
          "base_uri": "https://localhost:8080/"
        },
        "id": "u70jNSq0z-tL",
        "outputId": "79eed320-a942-49bb-ec19-731989cb14d8"
      },
      "source": [
        "data_train.info()  # extracting all the information about the features present"
      ],
      "execution_count": null,
      "outputs": [
        {
          "output_type": "stream",
          "text": [
            "<class 'pandas.core.frame.DataFrame'>\n",
            "RangeIndex: 44550 entries, 0 to 44549\n",
            "Data columns (total 41 columns):\n",
            " #   Column                 Non-Null Count  Dtype  \n",
            "---  ------                 --------------  -----  \n",
            " 0   id                     44550 non-null  int64  \n",
            " 1   amount_tsh             44550 non-null  float64\n",
            " 2   date_recorded          44550 non-null  object \n",
            " 3   funder                 41757 non-null  object \n",
            " 4   gps_height             44550 non-null  int64  \n",
            " 5   installer              41743 non-null  object \n",
            " 6   longitude              44550 non-null  float64\n",
            " 7   latitude               44550 non-null  float64\n",
            " 8   wpt_name               44550 non-null  object \n",
            " 9   num_private            44550 non-null  int64  \n",
            " 10  basin                  44550 non-null  object \n",
            " 11  subvillage             44263 non-null  object \n",
            " 12  region                 44550 non-null  object \n",
            " 13  region_code            44550 non-null  int64  \n",
            " 14  district_code          44550 non-null  int64  \n",
            " 15  lga                    44550 non-null  object \n",
            " 16  ward                   44550 non-null  object \n",
            " 17  population             44550 non-null  int64  \n",
            " 18  public_meeting         42059 non-null  object \n",
            " 19  recorded_by            44550 non-null  object \n",
            " 20  scheme_management      41718 non-null  object \n",
            " 21  scheme_name            23440 non-null  object \n",
            " 22  permit                 42214 non-null  object \n",
            " 23  construction_year      44550 non-null  int64  \n",
            " 24  extraction_type        44550 non-null  object \n",
            " 25  extraction_type_group  44550 non-null  object \n",
            " 26  extraction_type_class  44550 non-null  object \n",
            " 27  management             44550 non-null  object \n",
            " 28  management_group       44550 non-null  object \n",
            " 29  payment                44550 non-null  object \n",
            " 30  payment_type           44550 non-null  object \n",
            " 31  water_quality          44550 non-null  object \n",
            " 32  quality_group          44550 non-null  object \n",
            " 33  quantity               44550 non-null  object \n",
            " 34  quantity_group         44550 non-null  object \n",
            " 35  source                 44550 non-null  object \n",
            " 36  source_type            44550 non-null  object \n",
            " 37  source_class           44550 non-null  object \n",
            " 38  waterpoint_type        44550 non-null  object \n",
            " 39  waterpoint_type_group  44550 non-null  object \n",
            " 40  status_group           44550 non-null  object \n",
            "dtypes: float64(3), int64(7), object(31)\n",
            "memory usage: 13.9+ MB\n"
          ],
          "name": "stdout"
        }
      ]
    },
    {
      "cell_type": "markdown",
      "metadata": {
        "id": "qzlreUDYwKuO"
      },
      "source": [
        "**CLEANSING OF DATA:**\n",
        "\n",
        "\n",
        "1.   The group of features of (extraction_type, extraction_type_group, extraction_type_class), (payment, payment_type),\n",
        "(water_quality, quality_group), (source, source_class), (subvillage, region, region_code, district_code, lga, ward), and (waterpoint_type, waterpoint_type_group) all contain similarkind of data and hence it is o no use to consider the same feature again therefore keeping one of them from each of the features.\n",
        "2.   num_private column can be dropped because most of the values of the column are zero and hence it is not relevant to use this feature in our processing.\n",
        "3.  id column can be also dropped because it is of no use as it is just a unique no associated with the each type of the pump.\n",
        "\n",
        "\n",
        "\n"
      ]
    },
    {
      "cell_type": "code",
      "metadata": {
        "id": "006yEDq9oFhI"
      },
      "source": [
        "data_train = data_train.drop(['id','source','wpt_name', 'num_private', 'region', \n",
        "          'quantity'],axis = 1)\n",
        " \n",
        "data_train = data_train.drop(['quality_group','lga','ward','management', 'payment', \n",
        "           'extraction_type_group','extraction_type_class','date_recorded','recorded_by'], axis = 1)"
      ],
      "execution_count": null,
      "outputs": []
    },
    {
      "cell_type": "code",
      "metadata": {
        "colab": {
          "base_uri": "https://localhost:8080/",
          "height": 652
        },
        "id": "z0t5kFGjz4X_",
        "outputId": "1c4c81a2-7f52-4acb-b699-c099a521161d"
      },
      "source": [
        "data_train  # reading the clean data "
      ],
      "execution_count": null,
      "outputs": [
        {
          "output_type": "execute_result",
          "data": {
            "text/html": [
              "<div>\n",
              "<style scoped>\n",
              "    .dataframe tbody tr th:only-of-type {\n",
              "        vertical-align: middle;\n",
              "    }\n",
              "\n",
              "    .dataframe tbody tr th {\n",
              "        vertical-align: top;\n",
              "    }\n",
              "\n",
              "    .dataframe thead th {\n",
              "        text-align: right;\n",
              "    }\n",
              "</style>\n",
              "<table border=\"1\" class=\"dataframe\">\n",
              "  <thead>\n",
              "    <tr style=\"text-align: right;\">\n",
              "      <th></th>\n",
              "      <th>amount_tsh</th>\n",
              "      <th>funder</th>\n",
              "      <th>gps_height</th>\n",
              "      <th>installer</th>\n",
              "      <th>longitude</th>\n",
              "      <th>latitude</th>\n",
              "      <th>basin</th>\n",
              "      <th>subvillage</th>\n",
              "      <th>region_code</th>\n",
              "      <th>district_code</th>\n",
              "      <th>population</th>\n",
              "      <th>public_meeting</th>\n",
              "      <th>scheme_management</th>\n",
              "      <th>scheme_name</th>\n",
              "      <th>permit</th>\n",
              "      <th>construction_year</th>\n",
              "      <th>extraction_type</th>\n",
              "      <th>management_group</th>\n",
              "      <th>payment_type</th>\n",
              "      <th>water_quality</th>\n",
              "      <th>quantity_group</th>\n",
              "      <th>source_type</th>\n",
              "      <th>source_class</th>\n",
              "      <th>waterpoint_type</th>\n",
              "      <th>waterpoint_type_group</th>\n",
              "      <th>status_group</th>\n",
              "    </tr>\n",
              "  </thead>\n",
              "  <tbody>\n",
              "    <tr>\n",
              "      <th>0</th>\n",
              "      <td>7.0</td>\n",
              "      <td>Germany Republi</td>\n",
              "      <td>1203</td>\n",
              "      <td>CES</td>\n",
              "      <td>37.228664</td>\n",
              "      <td>-3.256505</td>\n",
              "      <td>Pangani</td>\n",
              "      <td>Mafurini</td>\n",
              "      <td>3</td>\n",
              "      <td>5</td>\n",
              "      <td>90</td>\n",
              "      <td>True</td>\n",
              "      <td>Water Board</td>\n",
              "      <td>Machame water supply</td>\n",
              "      <td>True</td>\n",
              "      <td>2008</td>\n",
              "      <td>gravity</td>\n",
              "      <td>user-group</td>\n",
              "      <td>per bucket</td>\n",
              "      <td>soft</td>\n",
              "      <td>enough</td>\n",
              "      <td>spring</td>\n",
              "      <td>groundwater</td>\n",
              "      <td>communal standpipe</td>\n",
              "      <td>communal standpipe</td>\n",
              "      <td>functional</td>\n",
              "    </tr>\n",
              "    <tr>\n",
              "      <th>1</th>\n",
              "      <td>0.0</td>\n",
              "      <td>Cdtf</td>\n",
              "      <td>1409</td>\n",
              "      <td>CDTF</td>\n",
              "      <td>34.615481</td>\n",
              "      <td>-9.972601</td>\n",
              "      <td>Lake Nyasa</td>\n",
              "      <td>Ituni</td>\n",
              "      <td>11</td>\n",
              "      <td>5</td>\n",
              "      <td>70</td>\n",
              "      <td>False</td>\n",
              "      <td>Private operator</td>\n",
              "      <td>Mgowel</td>\n",
              "      <td>False</td>\n",
              "      <td>1984</td>\n",
              "      <td>gravity</td>\n",
              "      <td>commercial</td>\n",
              "      <td>never pay</td>\n",
              "      <td>soft</td>\n",
              "      <td>enough</td>\n",
              "      <td>spring</td>\n",
              "      <td>groundwater</td>\n",
              "      <td>communal standpipe</td>\n",
              "      <td>communal standpipe</td>\n",
              "      <td>functional</td>\n",
              "    </tr>\n",
              "    <tr>\n",
              "      <th>2</th>\n",
              "      <td>0.0</td>\n",
              "      <td>Government Of Tanzania</td>\n",
              "      <td>1572</td>\n",
              "      <td>DWE</td>\n",
              "      <td>36.658778</td>\n",
              "      <td>-3.321529</td>\n",
              "      <td>Pangani</td>\n",
              "      <td>Melebuki</td>\n",
              "      <td>2</td>\n",
              "      <td>2</td>\n",
              "      <td>150</td>\n",
              "      <td>True</td>\n",
              "      <td>VWC</td>\n",
              "      <td>Saitero olosaita pipe line</td>\n",
              "      <td>True</td>\n",
              "      <td>2002</td>\n",
              "      <td>gravity</td>\n",
              "      <td>user-group</td>\n",
              "      <td>never pay</td>\n",
              "      <td>soft</td>\n",
              "      <td>insufficient</td>\n",
              "      <td>spring</td>\n",
              "      <td>groundwater</td>\n",
              "      <td>communal standpipe</td>\n",
              "      <td>communal standpipe</td>\n",
              "      <td>non functional</td>\n",
              "    </tr>\n",
              "    <tr>\n",
              "      <th>3</th>\n",
              "      <td>0.0</td>\n",
              "      <td>District Council</td>\n",
              "      <td>0</td>\n",
              "      <td>District Council</td>\n",
              "      <td>33.628025</td>\n",
              "      <td>-8.860795</td>\n",
              "      <td>Rufiji</td>\n",
              "      <td>Darajani</td>\n",
              "      <td>12</td>\n",
              "      <td>2</td>\n",
              "      <td>0</td>\n",
              "      <td>True</td>\n",
              "      <td>VWC</td>\n",
              "      <td>NaN</td>\n",
              "      <td>True</td>\n",
              "      <td>0</td>\n",
              "      <td>gravity</td>\n",
              "      <td>user-group</td>\n",
              "      <td>annually</td>\n",
              "      <td>soft</td>\n",
              "      <td>insufficient</td>\n",
              "      <td>river/lake</td>\n",
              "      <td>surface</td>\n",
              "      <td>communal standpipe</td>\n",
              "      <td>communal standpipe</td>\n",
              "      <td>functional</td>\n",
              "    </tr>\n",
              "    <tr>\n",
              "      <th>4</th>\n",
              "      <td>300.0</td>\n",
              "      <td>District Council</td>\n",
              "      <td>1283</td>\n",
              "      <td>District Council</td>\n",
              "      <td>37.655509</td>\n",
              "      <td>-3.669777</td>\n",
              "      <td>Pangani</td>\n",
              "      <td>Mwira A</td>\n",
              "      <td>3</td>\n",
              "      <td>2</td>\n",
              "      <td>34</td>\n",
              "      <td>True</td>\n",
              "      <td>VWC</td>\n",
              "      <td>Churu water supply</td>\n",
              "      <td>False</td>\n",
              "      <td>2007</td>\n",
              "      <td>gravity</td>\n",
              "      <td>user-group</td>\n",
              "      <td>monthly</td>\n",
              "      <td>soft</td>\n",
              "      <td>insufficient</td>\n",
              "      <td>spring</td>\n",
              "      <td>groundwater</td>\n",
              "      <td>communal standpipe</td>\n",
              "      <td>communal standpipe</td>\n",
              "      <td>functional</td>\n",
              "    </tr>\n",
              "    <tr>\n",
              "      <th>...</th>\n",
              "      <td>...</td>\n",
              "      <td>...</td>\n",
              "      <td>...</td>\n",
              "      <td>...</td>\n",
              "      <td>...</td>\n",
              "      <td>...</td>\n",
              "      <td>...</td>\n",
              "      <td>...</td>\n",
              "      <td>...</td>\n",
              "      <td>...</td>\n",
              "      <td>...</td>\n",
              "      <td>...</td>\n",
              "      <td>...</td>\n",
              "      <td>...</td>\n",
              "      <td>...</td>\n",
              "      <td>...</td>\n",
              "      <td>...</td>\n",
              "      <td>...</td>\n",
              "      <td>...</td>\n",
              "      <td>...</td>\n",
              "      <td>...</td>\n",
              "      <td>...</td>\n",
              "      <td>...</td>\n",
              "      <td>...</td>\n",
              "      <td>...</td>\n",
              "      <td>...</td>\n",
              "    </tr>\n",
              "    <tr>\n",
              "      <th>44545</th>\n",
              "      <td>0.0</td>\n",
              "      <td>World Vision</td>\n",
              "      <td>0</td>\n",
              "      <td>TAWASA</td>\n",
              "      <td>32.383715</td>\n",
              "      <td>-3.457624</td>\n",
              "      <td>Lake Tanganyika</td>\n",
              "      <td>Bukenge</td>\n",
              "      <td>17</td>\n",
              "      <td>3</td>\n",
              "      <td>0</td>\n",
              "      <td>True</td>\n",
              "      <td>NaN</td>\n",
              "      <td>NaN</td>\n",
              "      <td>True</td>\n",
              "      <td>0</td>\n",
              "      <td>nira/tanira</td>\n",
              "      <td>user-group</td>\n",
              "      <td>unknown</td>\n",
              "      <td>milky</td>\n",
              "      <td>enough</td>\n",
              "      <td>shallow well</td>\n",
              "      <td>groundwater</td>\n",
              "      <td>hand pump</td>\n",
              "      <td>hand pump</td>\n",
              "      <td>functional</td>\n",
              "    </tr>\n",
              "    <tr>\n",
              "      <th>44546</th>\n",
              "      <td>0.0</td>\n",
              "      <td>Ded</td>\n",
              "      <td>0</td>\n",
              "      <td>DED</td>\n",
              "      <td>31.615509</td>\n",
              "      <td>-2.738682</td>\n",
              "      <td>Lake Victoria</td>\n",
              "      <td>Ilyamchele Center</td>\n",
              "      <td>18</td>\n",
              "      <td>8</td>\n",
              "      <td>0</td>\n",
              "      <td>True</td>\n",
              "      <td>WUA</td>\n",
              "      <td>NaN</td>\n",
              "      <td>True</td>\n",
              "      <td>0</td>\n",
              "      <td>afridev</td>\n",
              "      <td>user-group</td>\n",
              "      <td>monthly</td>\n",
              "      <td>soft</td>\n",
              "      <td>enough</td>\n",
              "      <td>borehole</td>\n",
              "      <td>groundwater</td>\n",
              "      <td>hand pump</td>\n",
              "      <td>hand pump</td>\n",
              "      <td>non functional</td>\n",
              "    </tr>\n",
              "    <tr>\n",
              "      <th>44547</th>\n",
              "      <td>0.0</td>\n",
              "      <td>Government Of Tanzania</td>\n",
              "      <td>969</td>\n",
              "      <td>Government</td>\n",
              "      <td>35.134412</td>\n",
              "      <td>-10.676062</td>\n",
              "      <td>Ruvuma / Southern Coast</td>\n",
              "      <td>Masango</td>\n",
              "      <td>10</td>\n",
              "      <td>3</td>\n",
              "      <td>60</td>\n",
              "      <td>NaN</td>\n",
              "      <td>VWC</td>\n",
              "      <td>Government</td>\n",
              "      <td>NaN</td>\n",
              "      <td>1977</td>\n",
              "      <td>gravity</td>\n",
              "      <td>user-group</td>\n",
              "      <td>unknown</td>\n",
              "      <td>soft</td>\n",
              "      <td>seasonal</td>\n",
              "      <td>spring</td>\n",
              "      <td>groundwater</td>\n",
              "      <td>communal standpipe</td>\n",
              "      <td>communal standpipe</td>\n",
              "      <td>functional</td>\n",
              "    </tr>\n",
              "    <tr>\n",
              "      <th>44548</th>\n",
              "      <td>200.0</td>\n",
              "      <td>Adra</td>\n",
              "      <td>1269</td>\n",
              "      <td>ADRA/Government</td>\n",
              "      <td>37.886287</td>\n",
              "      <td>-4.390882</td>\n",
              "      <td>Pangani</td>\n",
              "      <td>Mng'Ende</td>\n",
              "      <td>3</td>\n",
              "      <td>3</td>\n",
              "      <td>80</td>\n",
              "      <td>True</td>\n",
              "      <td>Water authority</td>\n",
              "      <td>Kiumba water supply</td>\n",
              "      <td>True</td>\n",
              "      <td>2011</td>\n",
              "      <td>gravity</td>\n",
              "      <td>user-group</td>\n",
              "      <td>monthly</td>\n",
              "      <td>soft</td>\n",
              "      <td>insufficient</td>\n",
              "      <td>spring</td>\n",
              "      <td>groundwater</td>\n",
              "      <td>communal standpipe</td>\n",
              "      <td>communal standpipe</td>\n",
              "      <td>functional</td>\n",
              "    </tr>\n",
              "    <tr>\n",
              "      <th>44549</th>\n",
              "      <td>0.0</td>\n",
              "      <td>World Vision</td>\n",
              "      <td>0</td>\n",
              "      <td>Consulting Engineer</td>\n",
              "      <td>32.976560</td>\n",
              "      <td>-4.262149</td>\n",
              "      <td>Lake Tanganyika</td>\n",
              "      <td>Itunda A</td>\n",
              "      <td>14</td>\n",
              "      <td>1</td>\n",
              "      <td>0</td>\n",
              "      <td>True</td>\n",
              "      <td>VWC</td>\n",
              "      <td>NaN</td>\n",
              "      <td>False</td>\n",
              "      <td>0</td>\n",
              "      <td>nira/tanira</td>\n",
              "      <td>user-group</td>\n",
              "      <td>on failure</td>\n",
              "      <td>soft</td>\n",
              "      <td>enough</td>\n",
              "      <td>shallow well</td>\n",
              "      <td>groundwater</td>\n",
              "      <td>hand pump</td>\n",
              "      <td>hand pump</td>\n",
              "      <td>functional</td>\n",
              "    </tr>\n",
              "  </tbody>\n",
              "</table>\n",
              "<p>44550 rows × 26 columns</p>\n",
              "</div>"
            ],
            "text/plain": [
              "       amount_tsh                  funder  ...  waterpoint_type_group    status_group\n",
              "0             7.0         Germany Republi  ...     communal standpipe      functional\n",
              "1             0.0                    Cdtf  ...     communal standpipe      functional\n",
              "2             0.0  Government Of Tanzania  ...     communal standpipe  non functional\n",
              "3             0.0        District Council  ...     communal standpipe      functional\n",
              "4           300.0        District Council  ...     communal standpipe      functional\n",
              "...           ...                     ...  ...                    ...             ...\n",
              "44545         0.0            World Vision  ...              hand pump      functional\n",
              "44546         0.0                     Ded  ...              hand pump  non functional\n",
              "44547         0.0  Government Of Tanzania  ...     communal standpipe      functional\n",
              "44548       200.0                    Adra  ...     communal standpipe      functional\n",
              "44549         0.0            World Vision  ...              hand pump      functional\n",
              "\n",
              "[44550 rows x 26 columns]"
            ]
          },
          "metadata": {
            "tags": []
          },
          "execution_count": 14
        }
      ]
    },
    {
      "cell_type": "markdown",
      "metadata": {
        "id": "MIR0SCtI0DYD"
      },
      "source": [
        "# **ACCORDING TO MY UNDERSTANDING OF THE DATA THE REMAMINING FEATURES LEFT AFTER CLEANSING OF DATA ARE IMPORTANT IN THE MODEL ANALYSIS.** PLUS IMPORTANCE OF EACH VARIABLE"
      ]
    },
    {
      "cell_type": "code",
      "metadata": {
        "colab": {
          "base_uri": "https://localhost:8080/"
        },
        "id": "36g6q7Jp0a76",
        "outputId": "1712d527-28c6-4068-c526-c1d3362acc50"
      },
      "source": [
        "data_train.columns #reamining features"
      ],
      "execution_count": null,
      "outputs": [
        {
          "output_type": "execute_result",
          "data": {
            "text/plain": [
              "Index(['amount_tsh', 'funder', 'gps_height', 'installer', 'longitude',\n",
              "       'latitude', 'basin', 'subvillage', 'region_code', 'district_code',\n",
              "       'population', 'public_meeting', 'scheme_management', 'scheme_name',\n",
              "       'permit', 'construction_year', 'extraction_type', 'management_group',\n",
              "       'payment_type', 'water_quality', 'quantity_group', 'source_type',\n",
              "       'source_class', 'waterpoint_type', 'waterpoint_type_group',\n",
              "       'status_group'],\n",
              "      dtype='object')"
            ]
          },
          "metadata": {
            "tags": []
          },
          "execution_count": 15
        }
      ]
    },
    {
      "cell_type": "markdown",
      "metadata": {
        "id": "fop_dxLT5om_"
      },
      "source": [
        "CHECKING FOR ANY NULL DATA AND FILLING IT SUITABLY"
      ]
    },
    {
      "cell_type": "code",
      "metadata": {
        "colab": {
          "base_uri": "https://localhost:8080/"
        },
        "id": "armIW_2J5uC7",
        "outputId": "3319c93b-fc69-4218-b336-764266a7b543"
      },
      "source": [
        "data_train.apply(lambda x: sum(x.isnull()))"
      ],
      "execution_count": null,
      "outputs": [
        {
          "output_type": "execute_result",
          "data": {
            "text/plain": [
              "amount_tsh                   0\n",
              "funder                    2793\n",
              "gps_height                   0\n",
              "installer                 2807\n",
              "longitude                    0\n",
              "latitude                     0\n",
              "basin                        0\n",
              "subvillage                 287\n",
              "region_code                  0\n",
              "district_code                0\n",
              "population                   0\n",
              "public_meeting            2491\n",
              "scheme_management         2832\n",
              "scheme_name              21110\n",
              "permit                    2336\n",
              "construction_year            0\n",
              "extraction_type              0\n",
              "management_group             0\n",
              "payment_type                 0\n",
              "water_quality                0\n",
              "quantity_group               0\n",
              "source_type                  0\n",
              "source_class                 0\n",
              "waterpoint_type              0\n",
              "waterpoint_type_group        0\n",
              "status_group                 0\n",
              "dtype: int64"
            ]
          },
          "metadata": {
            "tags": []
          },
          "execution_count": 16
        }
      ]
    },
    {
      "cell_type": "markdown",
      "metadata": {
        "id": "5mpW346J5_9M"
      },
      "source": [
        "**PROCESSSING THE COLUMNS HAVING THE NULL VALUE ONE BY ONE**"
      ]
    },
    {
      "cell_type": "markdown",
      "metadata": {
        "id": "C_o6fwPLBx0Z"
      },
      "source": [
        "FUNDER COLUMN: which funder funded the pump and the type of pumps coming in the list of which funder"
      ]
    },
    {
      "cell_type": "code",
      "metadata": {
        "colab": {
          "base_uri": "https://localhost:8080/"
        },
        "id": "AroMexD16Gye",
        "outputId": "a5493209-639c-4b73-8066-79879939a46a"
      },
      "source": [
        "data_train.funder.value_counts().head(15)"
      ],
      "execution_count": null,
      "outputs": [
        {
          "output_type": "execute_result",
          "data": {
            "text/plain": [
              "Government Of Tanzania    6780\n",
              "Danida                    2362\n",
              "Hesawa                    1639\n",
              "Rwssp                     1032\n",
              "Kkkt                       964\n",
              "World Bank                 962\n",
              "World Vision               924\n",
              "Unicef                     808\n",
              "Tasaf                      665\n",
              "District Council           655\n",
              "Dhv                        617\n",
              "Dwsp                       616\n",
              "Private Individual         616\n",
              "0                          572\n",
              "Norad                      542\n",
              "Name: funder, dtype: int64"
            ]
          },
          "metadata": {
            "tags": []
          },
          "execution_count": 17
        }
      ]
    },
    {
      "cell_type": "markdown",
      "metadata": {
        "id": "Q18iI4qB6qat"
      },
      "source": [
        " SINCE THE FEATURES CONTANS CATEGORICAL DATA , FEATURES WITH HIGH ARITY, WE ARE KEEPING THE TOP 15 VALUES ON THE BASIS oF THE FREQUENCY AND ASSIGNING ALL TEH REMAINING VALUES TO **OTHERS**"
      ]
    },
    {
      "cell_type": "code",
      "metadata": {
        "id": "bss2dhl_8o1e"
      },
      "source": [
        " def funder_column(row):  \n",
        "    if row['funder']=='Government Of Tanzania':\n",
        "        return 'Government Of Tanzania'\n",
        "    elif row['funder']=='Danida':\n",
        "        return 'danida'\n",
        "    elif row['funder']=='Hesawa':\n",
        "        return 'hesawa'\n",
        "    elif row['funder']=='Rwssp':\n",
        "        return 'rwssp'\n",
        "    elif row['funder']=='World Bank':\n",
        "        return 'world_bank'    \n",
        "    elif row['funder']=='Kkkt':\n",
        "        return 'Kkkt'\n",
        "    elif row['funder']=='World Vision':\n",
        "        return 'World Vision'\n",
        "    elif row['funder']=='Unicef':\n",
        "        return 'Unicef'\n",
        "    elif row['funder']=='Tasaf':\n",
        "        return 'Tasaf'\n",
        "    elif row['funder']=='District Council':\n",
        "        return 'District Council'\n",
        "    elif row['funder']=='Dhv':\n",
        "        return 'Dhv'\n",
        "    elif row['funder']=='Private Individual ':\n",
        "        return 'Private Individual '\n",
        "    elif row['funder']=='Dwsp':\n",
        "        return 'Dwsp'\n",
        "    elif row['funder']=='0':\n",
        "        return '0'\n",
        "    elif row['funder']=='Norad':\n",
        "        return 'Norad'\n",
        "\n",
        "    else:\n",
        "        return 'other'\n",
        "    \n",
        "data_train['funder'] = data_train.apply(lambda row: funder_column(row), axis=1)"
      ],
      "execution_count": null,
      "outputs": []
    },
    {
      "cell_type": "markdown",
      "metadata": {
        "id": "JkfMCV3M-yM0"
      },
      "source": [
        "ADDING NEW COLUMN AS score_values WHICH CAN BE USE AS A PIVOT TABLE TO CHECK THE DIFFERENCE BETWEEN DIFFERENT FUNDERS"
      ]
    },
    {
      "cell_type": "code",
      "metadata": {
        "id": "B2iCNHu5_Gqq"
      },
      "source": [
        " VALUES_REPLACE = {'functional':2, 'functional needs repair':1, 'non functional':0}\n",
        "data_train['score_values']  = data_train.status_group.replace(VALUES_REPLACE)"
      ],
      "execution_count": null,
      "outputs": []
    },
    {
      "cell_type": "markdown",
      "metadata": {
        "id": "vFYwkt7n_b7S"
      },
      "source": [
        "analysisng the different target classication with respect to the funder column using pivot table"
      ]
    },
    {
      "cell_type": "code",
      "metadata": {
        "colab": {
          "base_uri": "https://localhost:8080/",
          "height": 582
        },
        "id": "LKLtmPto_sfg",
        "outputId": "2e4a9757-7bd1-44ac-a596-bbff339da8de"
      },
      "source": [
        " table_pivot = pd.pivot_table(data_train,index=['funder', 'status_group'],\n",
        "                           values='score_values', aggfunc='count')\n",
        "table_pivot\n",
        "piv_dataframe= data_train[['funder','status_group','score_values']]\n",
        "table_pivot = piv_dataframe.pivot_table(index='funder',\n",
        "                           columns='status_group', aggfunc='count')\n",
        "table_pivot"
      ],
      "execution_count": null,
      "outputs": [
        {
          "output_type": "execute_result",
          "data": {
            "text/html": [
              "<div>\n",
              "<style scoped>\n",
              "    .dataframe tbody tr th:only-of-type {\n",
              "        vertical-align: middle;\n",
              "    }\n",
              "\n",
              "    .dataframe tbody tr th {\n",
              "        vertical-align: top;\n",
              "    }\n",
              "\n",
              "    .dataframe thead tr th {\n",
              "        text-align: left;\n",
              "    }\n",
              "\n",
              "    .dataframe thead tr:last-of-type th {\n",
              "        text-align: right;\n",
              "    }\n",
              "</style>\n",
              "<table border=\"1\" class=\"dataframe\">\n",
              "  <thead>\n",
              "    <tr>\n",
              "      <th></th>\n",
              "      <th colspan=\"3\" halign=\"left\">score_values</th>\n",
              "    </tr>\n",
              "    <tr>\n",
              "      <th>status_group</th>\n",
              "      <th>functional</th>\n",
              "      <th>functional needs repair</th>\n",
              "      <th>non functional</th>\n",
              "    </tr>\n",
              "    <tr>\n",
              "      <th>funder</th>\n",
              "      <th></th>\n",
              "      <th></th>\n",
              "      <th></th>\n",
              "    </tr>\n",
              "  </thead>\n",
              "  <tbody>\n",
              "    <tr>\n",
              "      <th>0</th>\n",
              "      <td>321</td>\n",
              "      <td>3</td>\n",
              "      <td>248</td>\n",
              "    </tr>\n",
              "    <tr>\n",
              "      <th>Dhv</th>\n",
              "      <td>350</td>\n",
              "      <td>44</td>\n",
              "      <td>223</td>\n",
              "    </tr>\n",
              "    <tr>\n",
              "      <th>District Council</th>\n",
              "      <td>294</td>\n",
              "      <td>35</td>\n",
              "      <td>326</td>\n",
              "    </tr>\n",
              "    <tr>\n",
              "      <th>Dwsp</th>\n",
              "      <td>288</td>\n",
              "      <td>158</td>\n",
              "      <td>170</td>\n",
              "    </tr>\n",
              "    <tr>\n",
              "      <th>Government Of Tanzania</th>\n",
              "      <td>2781</td>\n",
              "      <td>519</td>\n",
              "      <td>3480</td>\n",
              "    </tr>\n",
              "    <tr>\n",
              "      <th>Kkkt</th>\n",
              "      <td>529</td>\n",
              "      <td>55</td>\n",
              "      <td>380</td>\n",
              "    </tr>\n",
              "    <tr>\n",
              "      <th>Norad</th>\n",
              "      <td>189</td>\n",
              "      <td>116</td>\n",
              "      <td>237</td>\n",
              "    </tr>\n",
              "    <tr>\n",
              "      <th>Tasaf</th>\n",
              "      <td>365</td>\n",
              "      <td>53</td>\n",
              "      <td>247</td>\n",
              "    </tr>\n",
              "    <tr>\n",
              "      <th>Unicef</th>\n",
              "      <td>467</td>\n",
              "      <td>71</td>\n",
              "      <td>270</td>\n",
              "    </tr>\n",
              "    <tr>\n",
              "      <th>World Vision</th>\n",
              "      <td>545</td>\n",
              "      <td>99</td>\n",
              "      <td>280</td>\n",
              "    </tr>\n",
              "    <tr>\n",
              "      <th>danida</th>\n",
              "      <td>1282</td>\n",
              "      <td>119</td>\n",
              "      <td>961</td>\n",
              "    </tr>\n",
              "    <tr>\n",
              "      <th>hesawa</th>\n",
              "      <td>692</td>\n",
              "      <td>180</td>\n",
              "      <td>767</td>\n",
              "    </tr>\n",
              "    <tr>\n",
              "      <th>other</th>\n",
              "      <td>15083</td>\n",
              "      <td>1633</td>\n",
              "      <td>8696</td>\n",
              "    </tr>\n",
              "    <tr>\n",
              "      <th>rwssp</th>\n",
              "      <td>609</td>\n",
              "      <td>80</td>\n",
              "      <td>343</td>\n",
              "    </tr>\n",
              "    <tr>\n",
              "      <th>world_bank</th>\n",
              "      <td>399</td>\n",
              "      <td>73</td>\n",
              "      <td>490</td>\n",
              "    </tr>\n",
              "  </tbody>\n",
              "</table>\n",
              "</div>"
            ],
            "text/plain": [
              "                       score_values                                       \n",
              "status_group             functional functional needs repair non functional\n",
              "funder                                                                    \n",
              "0                               321                       3            248\n",
              "Dhv                             350                      44            223\n",
              "District Council                294                      35            326\n",
              "Dwsp                            288                     158            170\n",
              "Government Of Tanzania         2781                     519           3480\n",
              "Kkkt                            529                      55            380\n",
              "Norad                           189                     116            237\n",
              "Tasaf                           365                      53            247\n",
              "Unicef                          467                      71            270\n",
              "World Vision                    545                      99            280\n",
              "danida                         1282                     119            961\n",
              "hesawa                          692                     180            767\n",
              "other                         15083                    1633           8696\n",
              "rwssp                           609                      80            343\n",
              "world_bank                      399                      73            490"
            ]
          },
          "metadata": {
            "tags": []
          },
          "execution_count": 20
        }
      ]
    },
    {
      "cell_type": "markdown",
      "metadata": {
        "id": "kKGUttmhAs6a"
      },
      "source": [
        "NO of pumps in each class wrt to funder can be described above"
      ]
    },
    {
      "cell_type": "code",
      "metadata": {
        "colab": {
          "base_uri": "https://localhost:8080/",
          "height": 462
        },
        "id": "UCzE9N_gA1m4",
        "outputId": "a11ed6fa-26fd-467f-cfb7-3569224ffca2"
      },
      "source": [
        "from matplotlib import pyplot\n",
        "dimension = (17, 7)\n",
        "figure, axes = pyplot.subplots(figsize=dimension)\n",
        "sns.heatmap(table_pivot, cmap = 'GnBu')"
      ],
      "execution_count": null,
      "outputs": [
        {
          "output_type": "execute_result",
          "data": {
            "text/plain": [
              "<matplotlib.axes._subplots.AxesSubplot at 0x7f8651261f50>"
            ]
          },
          "metadata": {
            "tags": []
          },
          "execution_count": 21
        },
        {
          "output_type": "display_data",
          "data": {
            "image/png": "[encoded data removed]",
            "text/plain": [
              "<Figure size 1224x504 with 2 Axes>"
            ]
          },
          "metadata": {
            "tags": [],
            "needs_background": "light"
          }
        }
      ]
    },
    {
      "cell_type": "markdown",
      "metadata": {
        "id": "u56HAkRMBfd6"
      },
      "source": [
        "**graphical represntation of funder vs classes of pump using heatmap**"
      ]
    },
    {
      "cell_type": "markdown",
      "metadata": {
        "id": "HpqUcx3pCCy2"
      },
      "source": [
        "INSTALLER COLUMN: which installer installed ehich pump and  the final count of the three classes of pump wrt to the installer\n"
      ]
    },
    {
      "cell_type": "code",
      "metadata": {
        "colab": {
          "base_uri": "https://localhost:8080/"
        },
        "id": "c_FmB0o2BrBs",
        "outputId": "714ab86a-5237-4301-8ee8-a20cab7b1869"
      },
      "source": [
        "data_train.installer.value_counts().head(15)"
      ],
      "execution_count": null,
      "outputs": [
        {
          "output_type": "execute_result",
          "data": {
            "text/plain": [
              "DWE                   13005\n",
              "Government             1365\n",
              "RWE                     876\n",
              "Commu                   806\n",
              "DANIDA                  788\n",
              "KKKT                    681\n",
              "Hesawa                  622\n",
              "0                       572\n",
              "TCRS                    537\n",
              "Central government      504\n",
              "CES                     471\n",
              "District Council        425\n",
              "DANID                   420\n",
              "Community               411\n",
              "HESAWA                  404\n",
              "Name: installer, dtype: int64"
            ]
          },
          "metadata": {
            "tags": []
          },
          "execution_count": 22
        }
      ]
    },
    {
      "cell_type": "markdown",
      "metadata": {
        "id": "zlUzVry-IMA1"
      },
      "source": [
        "SINCE THE FEATURES CONTANS CATEGORICAL DATA , FEATURES WITH HIGH ARITY, WE ARE KEEPING THE TOP 15 VALUES ON THE BASIS oF THE FREQUENCY AND ASSIGNING ALL TEH REMAINING VALUES TO **OTHERS**"
      ]
    },
    {
      "cell_type": "code",
      "metadata": {
        "id": "VI93VxU5D9Em"
      },
      "source": [
        "def installer_column(row):  \n",
        "    if row['installer']=='DWE':\n",
        "        return 'DWE'\n",
        "    elif row['installer']=='Government ':\n",
        "        return 'Government '\n",
        "    elif row['installer']=='RWE':\n",
        "        return 'RWE'\n",
        "    elif row['installer']=='Commu':\n",
        "        return 'Commu'\n",
        "    elif row['installer']=='DANIDA':\n",
        "        return 'DANIDA'    \n",
        "    elif row['installer']=='KKKT':\n",
        "        return 'KKKT'\n",
        "    elif row['installer']=='Hesawa':\n",
        "        return 'Hesawa'\n",
        "    elif row['installer']=='0':\n",
        "        return '0'\n",
        "    elif row['installer']=='TCRS':\n",
        "        return 'TCRS'\n",
        "    elif row['installer']=='Central government':\n",
        "        return 'Central government'\n",
        "    elif row['installer']=='CES':\n",
        "        return 'CES'\n",
        "    elif row['installer']=='District Council':\n",
        "        return 'District Council '\n",
        "    elif row['installer']=='DANID':\n",
        "        return 'DANID'\n",
        "    elif row['installer']=='Community ':\n",
        "        return 'Community '\n",
        "    elif row['installer']=='HESAWA':\n",
        "        return 'HESAWA'\n",
        "\n",
        "    else:\n",
        "        return 'other'\n",
        "    \n",
        "data_train['installer'] = data_train.apply(lambda row: installer_column(row), axis=1)"
      ],
      "execution_count": null,
      "outputs": []
    },
    {
      "cell_type": "markdown",
      "metadata": {
        "id": "r5sTZG1sLg5d"
      },
      "source": [
        "analysisng the different target classication with respect to the installer column using pivot table"
      ]
    },
    {
      "cell_type": "code",
      "metadata": {
        "colab": {
          "base_uri": "https://localhost:8080/",
          "height": 551
        },
        "id": "RfyuwARULjfP",
        "outputId": "575f1815-9025-4717-a93b-1b4b1b6c171a"
      },
      "source": [
        "piv_dataframe= data_train[['installer','status_group','score_values']]\n",
        "table_pivot = piv_dataframe.pivot_table(index='installer',\n",
        "                           columns='status_group', aggfunc='count')\n",
        "table_pivot"
      ],
      "execution_count": null,
      "outputs": [
        {
          "output_type": "execute_result",
          "data": {
            "text/html": [
              "<div>\n",
              "<style scoped>\n",
              "    .dataframe tbody tr th:only-of-type {\n",
              "        vertical-align: middle;\n",
              "    }\n",
              "\n",
              "    .dataframe tbody tr th {\n",
              "        vertical-align: top;\n",
              "    }\n",
              "\n",
              "    .dataframe thead tr th {\n",
              "        text-align: left;\n",
              "    }\n",
              "\n",
              "    .dataframe thead tr:last-of-type th {\n",
              "        text-align: right;\n",
              "    }\n",
              "</style>\n",
              "<table border=\"1\" class=\"dataframe\">\n",
              "  <thead>\n",
              "    <tr>\n",
              "      <th></th>\n",
              "      <th colspan=\"3\" halign=\"left\">score_values</th>\n",
              "    </tr>\n",
              "    <tr>\n",
              "      <th>status_group</th>\n",
              "      <th>functional</th>\n",
              "      <th>functional needs repair</th>\n",
              "      <th>non functional</th>\n",
              "    </tr>\n",
              "    <tr>\n",
              "      <th>installer</th>\n",
              "      <th></th>\n",
              "      <th></th>\n",
              "      <th></th>\n",
              "    </tr>\n",
              "  </thead>\n",
              "  <tbody>\n",
              "    <tr>\n",
              "      <th>0</th>\n",
              "      <td>321</td>\n",
              "      <td>3</td>\n",
              "      <td>248</td>\n",
              "    </tr>\n",
              "    <tr>\n",
              "      <th>CES</th>\n",
              "      <td>409</td>\n",
              "      <td>1</td>\n",
              "      <td>61</td>\n",
              "    </tr>\n",
              "    <tr>\n",
              "      <th>Central government</th>\n",
              "      <td>120</td>\n",
              "      <td>4</td>\n",
              "      <td>380</td>\n",
              "    </tr>\n",
              "    <tr>\n",
              "      <th>Commu</th>\n",
              "      <td>546</td>\n",
              "      <td>27</td>\n",
              "      <td>233</td>\n",
              "    </tr>\n",
              "    <tr>\n",
              "      <th>DANID</th>\n",
              "      <td>328</td>\n",
              "      <td>7</td>\n",
              "      <td>85</td>\n",
              "    </tr>\n",
              "    <tr>\n",
              "      <th>DANIDA</th>\n",
              "      <td>404</td>\n",
              "      <td>64</td>\n",
              "      <td>320</td>\n",
              "    </tr>\n",
              "    <tr>\n",
              "      <th>DWE</th>\n",
              "      <td>7049</td>\n",
              "      <td>1199</td>\n",
              "      <td>4757</td>\n",
              "    </tr>\n",
              "    <tr>\n",
              "      <th>District Council</th>\n",
              "      <td>219</td>\n",
              "      <td>34</td>\n",
              "      <td>172</td>\n",
              "    </tr>\n",
              "    <tr>\n",
              "      <th>HESAWA</th>\n",
              "      <td>227</td>\n",
              "      <td>30</td>\n",
              "      <td>147</td>\n",
              "    </tr>\n",
              "    <tr>\n",
              "      <th>Hesawa</th>\n",
              "      <td>348</td>\n",
              "      <td>14</td>\n",
              "      <td>260</td>\n",
              "    </tr>\n",
              "    <tr>\n",
              "      <th>KKKT</th>\n",
              "      <td>311</td>\n",
              "      <td>51</td>\n",
              "      <td>319</td>\n",
              "    </tr>\n",
              "    <tr>\n",
              "      <th>RWE</th>\n",
              "      <td>229</td>\n",
              "      <td>99</td>\n",
              "      <td>548</td>\n",
              "    </tr>\n",
              "    <tr>\n",
              "      <th>TCRS</th>\n",
              "      <td>222</td>\n",
              "      <td>34</td>\n",
              "      <td>281</td>\n",
              "    </tr>\n",
              "    <tr>\n",
              "      <th>other</th>\n",
              "      <td>13461</td>\n",
              "      <td>1671</td>\n",
              "      <td>9307</td>\n",
              "    </tr>\n",
              "  </tbody>\n",
              "</table>\n",
              "</div>"
            ],
            "text/plain": [
              "                   score_values                                       \n",
              "status_group         functional functional needs repair non functional\n",
              "installer                                                             \n",
              "0                           321                       3            248\n",
              "CES                         409                       1             61\n",
              "Central government          120                       4            380\n",
              "Commu                       546                      27            233\n",
              "DANID                       328                       7             85\n",
              "DANIDA                      404                      64            320\n",
              "DWE                        7049                    1199           4757\n",
              "District Council            219                      34            172\n",
              "HESAWA                      227                      30            147\n",
              "Hesawa                      348                      14            260\n",
              "KKKT                        311                      51            319\n",
              "RWE                         229                      99            548\n",
              "TCRS                        222                      34            281\n",
              "other                     13461                    1671           9307"
            ]
          },
          "metadata": {
            "tags": []
          },
          "execution_count": 24
        }
      ]
    },
    {
      "cell_type": "markdown",
      "metadata": {
        "id": "N9NvNiVrLvL1"
      },
      "source": [
        "NO of pumps in each class wrt to installer can be described above"
      ]
    },
    {
      "cell_type": "code",
      "metadata": {
        "colab": {
          "base_uri": "https://localhost:8080/",
          "height": 462
        },
        "id": "3ituvAlfLrIH",
        "outputId": "ffcec8c4-4fb8-476d-b85e-31f243d43eaa"
      },
      "source": [
        "figure, axes = pyplot.subplots(figsize=dimension)\n",
        "sns.heatmap(table_pivot, cmap = 'GnBu')"
      ],
      "execution_count": null,
      "outputs": [
        {
          "output_type": "execute_result",
          "data": {
            "text/plain": [
              "<matplotlib.axes._subplots.AxesSubplot at 0x7f8650292a10>"
            ]
          },
          "metadata": {
            "tags": []
          },
          "execution_count": 25
        },
        {
          "output_type": "display_data",
          "data": {
            "image/png": "[encoded data removed]",
            "text/plain": [
              "<Figure size 1224x504 with 2 Axes>"
            ]
          },
          "metadata": {
            "tags": [],
            "needs_background": "light"
          }
        }
      ]
    },
    {
      "cell_type": "markdown",
      "metadata": {
        "id": "JxxIdLRmL6UU"
      },
      "source": [
        "**graphical represntation of installer vs classes of pump using heatmap**"
      ]
    },
    {
      "cell_type": "markdown",
      "metadata": {
        "id": "mjrreb2sNJMT"
      },
      "source": [
        "COLUMN NAME: SUBVILLAGE (having subvillage data)"
      ]
    },
    {
      "cell_type": "code",
      "metadata": {
        "colab": {
          "base_uri": "https://localhost:8080/"
        },
        "id": "sCJd97dML556",
        "outputId": "850c6192-e176-4f1b-937f-44832a3f635d"
      },
      "source": [
        "data_train.subvillage.value_counts().unique"
      ],
      "execution_count": null,
      "outputs": [
        {
          "output_type": "execute_result",
          "data": {
            "text/plain": [
              "<bound method Series.unique of Madukani     403\n",
              "Majengo      391\n",
              "Shuleni      380\n",
              "Kati         274\n",
              "Mtakuja      187\n",
              "            ... \n",
              "Wanikija       1\n",
              "Mwalukale      1\n",
              "Sefu           1\n",
              "Mulumono       1\n",
              "Mwanganga      1\n",
              "Name: subvillage, Length: 16617, dtype: int64>"
            ]
          },
          "metadata": {
            "tags": []
          },
          "execution_count": 26
        }
      ]
    },
    {
      "cell_type": "markdown",
      "metadata": {
        "id": "0X0JZgkWWWJM"
      },
      "source": [
        "out of all data points only 16617 are having data and fills other with the others"
      ]
    },
    {
      "cell_type": "code",
      "metadata": {
        "id": "xKi0Qbn8WoKX"
      },
      "source": [
        "data_train.subvillage = data_train.subvillage.fillna('others')"
      ],
      "execution_count": null,
      "outputs": []
    },
    {
      "cell_type": "markdown",
      "metadata": {
        "id": "C02aoSIQWyrK"
      },
      "source": [
        "COLUMN:SCHEME NAME"
      ]
    },
    {
      "cell_type": "code",
      "metadata": {
        "colab": {
          "base_uri": "https://localhost:8080/"
        },
        "id": "vnyZXbI1WuqK",
        "outputId": "fba9b200-ca9e-40c4-a3f6-5b68e8a2d95c"
      },
      "source": [
        "data_train.scheme_name.value_counts().head(15)"
      ],
      "execution_count": null,
      "outputs": [
        {
          "output_type": "execute_result",
          "data": {
            "text/plain": [
              "K                                        528\n",
              "None                                     494\n",
              "Borehole                                 402\n",
              "M                                        310\n",
              "Chalinze wate                            300\n",
              "DANIDA                                   273\n",
              "Government                               238\n",
              "Ngana water supplied scheme              221\n",
              "wanging'ombe water supply s              186\n",
              "wanging'ombe supply scheme               182\n",
              "I                                        176\n",
              "Bagamoyo wate                            166\n",
              "N                                        160\n",
              "Uroki-Bomang'ombe water sup              158\n",
              "Kirua kahe gravity water supply trust    142\n",
              "Name: scheme_name, dtype: int64"
            ]
          },
          "metadata": {
            "tags": []
          },
          "execution_count": 28
        }
      ]
    },
    {
      "cell_type": "markdown",
      "metadata": {
        "id": "2JRSdE5rY3kP"
      },
      "source": [
        "SINCE THE FEATURES CONTANS CATEGORICAL DATA , FEATURES WITH HIGH ARITY, WE ARE KEEPING THE TOP 15 VALUES ON THE BASIS oF THE FREQUENCY AND ASSIGNING ALL TEH REMAINING VALUES TO **OTHERS**"
      ]
    },
    {
      "cell_type": "code",
      "metadata": {
        "id": "hPcPNfpTXBU1"
      },
      "source": [
        "def scheme_name_column(row):  \n",
        "    if row['scheme_name']=='K':\n",
        "        return 'K'\n",
        "    elif row['scheme_name']=='None':\n",
        "        return 'None'\n",
        "    elif row['scheme_name']=='Borehole':\n",
        "        return 'Borehole'\n",
        "    elif row['scheme_name']=='M':\n",
        "        return 'M'\n",
        "    elif row['scheme_name']=='Chalinze wate':\n",
        "        return 'Chalinze wate'    \n",
        "    elif row['scheme_name']=='DANIDA  ':\n",
        "        return 'DANIDA  '\n",
        "    elif row['scheme_name']=='Government':\n",
        "        return 'Government'\n",
        "    elif row['scheme_name']=='Ngana water supplied scheme':\n",
        "        return 'Ngana water supplied scheme'\n",
        "    elif row['scheme_name']==\"wanging'ombe water supply s\":\n",
        "        return 'wangingombe water supply s'\n",
        "    elif row['scheme_name']==\"wanging'ombe supply scheme\":\n",
        "        return 'wangingombe supply scheme'\n",
        "    elif row['scheme_name']=='I':\n",
        "        return 'I'\n",
        "    elif row['scheme_name']=='Bagamoyo wate':\n",
        "        return 'Bagamoyo wate'\n",
        "    elif row['scheme_name']=='N':\n",
        "        return 'N'\n",
        "    elif row['scheme_name']==\"Uroki-Bomang'ombe water sup\":\n",
        "        return \"Uroki-Bomang'ombe water sup\"\n",
        "    elif row['scheme_name']=='Kirua kahe gravity water supply trust':\n",
        "        return 'Kirua kahe gravity water supply trust'\n",
        "\n",
        "    else:\n",
        "        return 'other'\n",
        "    \n",
        "data_train['scheme_name'] = data_train.apply(lambda row: scheme_name_column(row), axis=1)"
      ],
      "execution_count": null,
      "outputs": []
    },
    {
      "cell_type": "markdown",
      "metadata": {
        "id": "WfZH6HkmZHt5"
      },
      "source": [
        "analysisng the different target classication with respect to the scheme_name column using pivot table"
      ]
    },
    {
      "cell_type": "code",
      "metadata": {
        "colab": {
          "base_uri": "https://localhost:8080/",
          "height": 582
        },
        "id": "YN_W6fa9Y7xG",
        "outputId": "3cafafad-a5d7-4ba4-87b3-dc2ef6f25ba0"
      },
      "source": [
        "piv_dataframe= data_train[['scheme_name','status_group','score_values']]\n",
        "table_pivot = piv_dataframe.pivot_table(index='scheme_name',\n",
        "                           columns='status_group', aggfunc='count')\n",
        "table_pivot"
      ],
      "execution_count": null,
      "outputs": [
        {
          "output_type": "execute_result",
          "data": {
            "text/html": [
              "<div>\n",
              "<style scoped>\n",
              "    .dataframe tbody tr th:only-of-type {\n",
              "        vertical-align: middle;\n",
              "    }\n",
              "\n",
              "    .dataframe tbody tr th {\n",
              "        vertical-align: top;\n",
              "    }\n",
              "\n",
              "    .dataframe thead tr th {\n",
              "        text-align: left;\n",
              "    }\n",
              "\n",
              "    .dataframe thead tr:last-of-type th {\n",
              "        text-align: right;\n",
              "    }\n",
              "</style>\n",
              "<table border=\"1\" class=\"dataframe\">\n",
              "  <thead>\n",
              "    <tr>\n",
              "      <th></th>\n",
              "      <th colspan=\"3\" halign=\"left\">score_values</th>\n",
              "    </tr>\n",
              "    <tr>\n",
              "      <th>status_group</th>\n",
              "      <th>functional</th>\n",
              "      <th>functional needs repair</th>\n",
              "      <th>non functional</th>\n",
              "    </tr>\n",
              "    <tr>\n",
              "      <th>scheme_name</th>\n",
              "      <th></th>\n",
              "      <th></th>\n",
              "      <th></th>\n",
              "    </tr>\n",
              "  </thead>\n",
              "  <tbody>\n",
              "    <tr>\n",
              "      <th>Bagamoyo wate</th>\n",
              "      <td>118.0</td>\n",
              "      <td>NaN</td>\n",
              "      <td>48.0</td>\n",
              "    </tr>\n",
              "    <tr>\n",
              "      <th>Borehole</th>\n",
              "      <td>151.0</td>\n",
              "      <td>20.0</td>\n",
              "      <td>231.0</td>\n",
              "    </tr>\n",
              "    <tr>\n",
              "      <th>Chalinze wate</th>\n",
              "      <td>249.0</td>\n",
              "      <td>NaN</td>\n",
              "      <td>51.0</td>\n",
              "    </tr>\n",
              "    <tr>\n",
              "      <th>Government</th>\n",
              "      <td>111.0</td>\n",
              "      <td>22.0</td>\n",
              "      <td>105.0</td>\n",
              "    </tr>\n",
              "    <tr>\n",
              "      <th>I</th>\n",
              "      <td>107.0</td>\n",
              "      <td>17.0</td>\n",
              "      <td>52.0</td>\n",
              "    </tr>\n",
              "    <tr>\n",
              "      <th>K</th>\n",
              "      <td>298.0</td>\n",
              "      <td>86.0</td>\n",
              "      <td>144.0</td>\n",
              "    </tr>\n",
              "    <tr>\n",
              "      <th>Kirua kahe gravity water supply trust</th>\n",
              "      <td>127.0</td>\n",
              "      <td>3.0</td>\n",
              "      <td>12.0</td>\n",
              "    </tr>\n",
              "    <tr>\n",
              "      <th>M</th>\n",
              "      <td>148.0</td>\n",
              "      <td>47.0</td>\n",
              "      <td>115.0</td>\n",
              "    </tr>\n",
              "    <tr>\n",
              "      <th>N</th>\n",
              "      <td>97.0</td>\n",
              "      <td>8.0</td>\n",
              "      <td>55.0</td>\n",
              "    </tr>\n",
              "    <tr>\n",
              "      <th>Ngana water supplied scheme</th>\n",
              "      <td>49.0</td>\n",
              "      <td>3.0</td>\n",
              "      <td>169.0</td>\n",
              "    </tr>\n",
              "    <tr>\n",
              "      <th>None</th>\n",
              "      <td>303.0</td>\n",
              "      <td>23.0</td>\n",
              "      <td>168.0</td>\n",
              "    </tr>\n",
              "    <tr>\n",
              "      <th>Uroki-Bomang'ombe water sup</th>\n",
              "      <td>130.0</td>\n",
              "      <td>1.0</td>\n",
              "      <td>27.0</td>\n",
              "    </tr>\n",
              "    <tr>\n",
              "      <th>other</th>\n",
              "      <td>22077.0</td>\n",
              "      <td>2956.0</td>\n",
              "      <td>15854.0</td>\n",
              "    </tr>\n",
              "    <tr>\n",
              "      <th>wangingombe supply scheme</th>\n",
              "      <td>116.0</td>\n",
              "      <td>18.0</td>\n",
              "      <td>48.0</td>\n",
              "    </tr>\n",
              "    <tr>\n",
              "      <th>wangingombe water supply s</th>\n",
              "      <td>113.0</td>\n",
              "      <td>34.0</td>\n",
              "      <td>39.0</td>\n",
              "    </tr>\n",
              "  </tbody>\n",
              "</table>\n",
              "</div>"
            ],
            "text/plain": [
              "                                      score_values  ...               \n",
              "status_group                            functional  ... non functional\n",
              "scheme_name                                         ...               \n",
              "Bagamoyo wate                                118.0  ...           48.0\n",
              "Borehole                                     151.0  ...          231.0\n",
              "Chalinze wate                                249.0  ...           51.0\n",
              "Government                                   111.0  ...          105.0\n",
              "I                                            107.0  ...           52.0\n",
              "K                                            298.0  ...          144.0\n",
              "Kirua kahe gravity water supply trust        127.0  ...           12.0\n",
              "M                                            148.0  ...          115.0\n",
              "N                                             97.0  ...           55.0\n",
              "Ngana water supplied scheme                   49.0  ...          169.0\n",
              "None                                         303.0  ...          168.0\n",
              "Uroki-Bomang'ombe water sup                  130.0  ...           27.0\n",
              "other                                      22077.0  ...        15854.0\n",
              "wangingombe supply scheme                    116.0  ...           48.0\n",
              "wangingombe water supply s                   113.0  ...           39.0\n",
              "\n",
              "[15 rows x 3 columns]"
            ]
          },
          "metadata": {
            "tags": []
          },
          "execution_count": 30
        }
      ]
    },
    {
      "cell_type": "markdown",
      "metadata": {
        "id": "ETfYKZ4CZTss"
      },
      "source": [
        "NO of pumps in each class wrt to scheme_name can be described above"
      ]
    },
    {
      "cell_type": "code",
      "metadata": {
        "colab": {
          "base_uri": "https://localhost:8080/",
          "height": 462
        },
        "id": "5_LbL4X8ZPFw",
        "outputId": "cf3d7f2e-4d9b-4eb5-c634-c87cae4c16bb"
      },
      "source": [
        "figure, axes = pyplot.subplots(figsize=dimension)\n",
        "sns.heatmap(table_pivot, cmap = 'GnBu')"
      ],
      "execution_count": null,
      "outputs": [
        {
          "output_type": "execute_result",
          "data": {
            "text/plain": [
              "<matplotlib.axes._subplots.AxesSubplot at 0x7f8650430250>"
            ]
          },
          "metadata": {
            "tags": []
          },
          "execution_count": 31
        },
        {
          "output_type": "display_data",
          "data": {
            "image/png": "[encoded data removed]",
            "text/plain": [
              "<Figure size 1224x504 with 2 Axes>"
            ]
          },
          "metadata": {
            "tags": [],
            "needs_background": "light"
          }
        }
      ]
    },
    {
      "cell_type": "markdown",
      "metadata": {
        "id": "_bav2yj7ZXVb"
      },
      "source": [
        "**graphical represntation of scheme_name vs classes of pump using heatmap**"
      ]
    },
    {
      "cell_type": "code",
      "metadata": {
        "id": "hHGzdasTZXFi"
      },
      "source": [
        "# PUBLIC MEETING COLUMN  HERE WE ARE FILLING THE COLUMN WITH SOME UNKNOWN VALUES:\n",
        "data_train.public_meeting = data_train.public_meeting.fillna('not_known')"
      ],
      "execution_count": null,
      "outputs": []
    },
    {
      "cell_type": "code",
      "metadata": {
        "id": "eotJB1BpbtSU"
      },
      "source": [
        "# SCHEME_MANAAGEMENT COLUMN  HERE WE ARE FILLING THE COLUMN WITH OTHERS:\n",
        "data_train.scheme_management = data_train.scheme_management.fillna('others')"
      ],
      "execution_count": null,
      "outputs": []
    },
    {
      "cell_type": "code",
      "metadata": {
        "id": "XbfRQpnScgIg"
      },
      "source": [
        "# PERMIT COLUMN  HERE WE ARE FILLING THE COLUMN WITH SOME UNKNOWN VALUES:\n",
        "data_train.permit = data_train.permit.fillna('not_known')"
      ],
      "execution_count": null,
      "outputs": []
    },
    {
      "cell_type": "markdown",
      "metadata": {
        "id": "OUV4C0xncsiK"
      },
      "source": [
        "NOW CHECK FOR ANY NULL VALUES"
      ]
    },
    {
      "cell_type": "code",
      "metadata": {
        "colab": {
          "base_uri": "https://localhost:8080/"
        },
        "id": "JiLLnPI6crpa",
        "outputId": "1d62c675-2e93-415e-8661-8c7f97e00541"
      },
      "source": [
        " data_train.apply(lambda x: sum(x.isnull()))"
      ],
      "execution_count": null,
      "outputs": [
        {
          "output_type": "execute_result",
          "data": {
            "text/plain": [
              "amount_tsh               0\n",
              "funder                   0\n",
              "gps_height               0\n",
              "installer                0\n",
              "longitude                0\n",
              "latitude                 0\n",
              "basin                    0\n",
              "subvillage               0\n",
              "region_code              0\n",
              "district_code            0\n",
              "population               0\n",
              "public_meeting           0\n",
              "scheme_management        0\n",
              "scheme_name              0\n",
              "permit                   0\n",
              "construction_year        0\n",
              "extraction_type          0\n",
              "management_group         0\n",
              "payment_type             0\n",
              "water_quality            0\n",
              "quantity_group           0\n",
              "source_type              0\n",
              "source_class             0\n",
              "waterpoint_type          0\n",
              "waterpoint_type_group    0\n",
              "status_group             0\n",
              "score_values             0\n",
              "dtype: int64"
            ]
          },
          "metadata": {
            "tags": []
          },
          "execution_count": 35
        }
      ]
    },
    {
      "cell_type": "markdown",
      "metadata": {
        "id": "2PgqraHcc4Cp"
      },
      "source": [
        "HENCE WE CAN SEE THAT THERE ARE NO NULL VALUES LEFT"
      ]
    },
    {
      "cell_type": "code",
      "metadata": {
        "id": "-4v4loDtc-Wy"
      },
      "source": [
        "# CONSTRUCTION_YEAR COLUMN  HERE WE ARE FILLING THE COLUMN WITH SOME UNKNOWN VALUES:\n",
        "data_train.construction_year = data_train.construction_year.fillna('not_known')"
      ],
      "execution_count": null,
      "outputs": []
    },
    {
      "cell_type": "markdown",
      "metadata": {
        "id": "lriXBRWlg6s5"
      },
      "source": [
        "COLUNM NAME: **BASIN**"
      ]
    },
    {
      "cell_type": "code",
      "metadata": {
        "id": "h5b9WaVndgxF",
        "colab": {
          "base_uri": "https://localhost:8080/"
        },
        "outputId": "8a40de51-0aba-424a-c510-889a9ab620c5"
      },
      "source": [
        "data_train.basin.value_counts()"
      ],
      "execution_count": null,
      "outputs": [
        {
          "output_type": "execute_result",
          "data": {
            "text/plain": [
              "Lake Victoria              7623\n",
              "Pangani                    6703\n",
              "Rufiji                     6045\n",
              "Internal                   5855\n",
              "Lake Tanganyika            4775\n",
              "Wami / Ruvu                4430\n",
              "Lake Nyasa                 3902\n",
              "Ruvuma / Southern Coast    3381\n",
              "Lake Rukwa                 1836\n",
              "Name: basin, dtype: int64"
            ]
          },
          "metadata": {
            "tags": []
          },
          "execution_count": 37
        }
      ]
    },
    {
      "cell_type": "code",
      "metadata": {
        "colab": {
          "base_uri": "https://localhost:8080/",
          "height": 394
        },
        "id": "Ir6DsPQghEZy",
        "outputId": "df6f8dd3-1bfa-48dc-efaa-a38909933d18"
      },
      "source": [
        "#generating pivot table for basin column:\n",
        "piv_dataframe= data_train[['basin','status_group','score_values']]\n",
        "table_pivot = piv_dataframe.pivot_table(index='basin',\n",
        "                           columns='status_group', aggfunc='count')\n",
        "table_pivot"
      ],
      "execution_count": null,
      "outputs": [
        {
          "output_type": "execute_result",
          "data": {
            "text/html": [
              "<div>\n",
              "<style scoped>\n",
              "    .dataframe tbody tr th:only-of-type {\n",
              "        vertical-align: middle;\n",
              "    }\n",
              "\n",
              "    .dataframe tbody tr th {\n",
              "        vertical-align: top;\n",
              "    }\n",
              "\n",
              "    .dataframe thead tr th {\n",
              "        text-align: left;\n",
              "    }\n",
              "\n",
              "    .dataframe thead tr:last-of-type th {\n",
              "        text-align: right;\n",
              "    }\n",
              "</style>\n",
              "<table border=\"1\" class=\"dataframe\">\n",
              "  <thead>\n",
              "    <tr>\n",
              "      <th></th>\n",
              "      <th colspan=\"3\" halign=\"left\">score_values</th>\n",
              "    </tr>\n",
              "    <tr>\n",
              "      <th>status_group</th>\n",
              "      <th>functional</th>\n",
              "      <th>functional needs repair</th>\n",
              "      <th>non functional</th>\n",
              "    </tr>\n",
              "    <tr>\n",
              "      <th>basin</th>\n",
              "      <th></th>\n",
              "      <th></th>\n",
              "      <th></th>\n",
              "    </tr>\n",
              "  </thead>\n",
              "  <tbody>\n",
              "    <tr>\n",
              "      <th>Internal</th>\n",
              "      <td>3379</td>\n",
              "      <td>420</td>\n",
              "      <td>2056</td>\n",
              "    </tr>\n",
              "    <tr>\n",
              "      <th>Lake Nyasa</th>\n",
              "      <td>2525</td>\n",
              "      <td>195</td>\n",
              "      <td>1182</td>\n",
              "    </tr>\n",
              "    <tr>\n",
              "      <th>Lake Rukwa</th>\n",
              "      <td>748</td>\n",
              "      <td>203</td>\n",
              "      <td>885</td>\n",
              "    </tr>\n",
              "    <tr>\n",
              "      <th>Lake Tanganyika</th>\n",
              "      <td>2318</td>\n",
              "      <td>545</td>\n",
              "      <td>1912</td>\n",
              "    </tr>\n",
              "    <tr>\n",
              "      <th>Lake Victoria</th>\n",
              "      <td>3793</td>\n",
              "      <td>741</td>\n",
              "      <td>3089</td>\n",
              "    </tr>\n",
              "    <tr>\n",
              "      <th>Pangani</th>\n",
              "      <td>4021</td>\n",
              "      <td>352</td>\n",
              "      <td>2330</td>\n",
              "    </tr>\n",
              "    <tr>\n",
              "      <th>Rufiji</th>\n",
              "      <td>3836</td>\n",
              "      <td>338</td>\n",
              "      <td>1871</td>\n",
              "    </tr>\n",
              "    <tr>\n",
              "      <th>Ruvuma / Southern Coast</th>\n",
              "      <td>1268</td>\n",
              "      <td>237</td>\n",
              "      <td>1876</td>\n",
              "    </tr>\n",
              "    <tr>\n",
              "      <th>Wami / Ruvu</th>\n",
              "      <td>2306</td>\n",
              "      <td>207</td>\n",
              "      <td>1917</td>\n",
              "    </tr>\n",
              "  </tbody>\n",
              "</table>\n",
              "</div>"
            ],
            "text/plain": [
              "                        score_values                                       \n",
              "status_group              functional functional needs repair non functional\n",
              "basin                                                                      \n",
              "Internal                        3379                     420           2056\n",
              "Lake Nyasa                      2525                     195           1182\n",
              "Lake Rukwa                       748                     203            885\n",
              "Lake Tanganyika                 2318                     545           1912\n",
              "Lake Victoria                   3793                     741           3089\n",
              "Pangani                         4021                     352           2330\n",
              "Rufiji                          3836                     338           1871\n",
              "Ruvuma / Southern Coast         1268                     237           1876\n",
              "Wami / Ruvu                     2306                     207           1917"
            ]
          },
          "metadata": {
            "tags": []
          },
          "execution_count": 38
        }
      ]
    },
    {
      "cell_type": "markdown",
      "metadata": {
        "id": "xEiS94T9LwGr"
      },
      "source": [
        "COLUMN NAME: EXTACTION TYPE COLUMN:"
      ]
    },
    {
      "cell_type": "code",
      "metadata": {
        "colab": {
          "base_uri": "https://localhost:8080/"
        },
        "id": "CVGHQb3BhZDd",
        "outputId": "8c727ccb-cb7f-4d83-eaf5-520745c6f724"
      },
      "source": [
        "data_train.extraction_type.value_counts().head(16)"
      ],
      "execution_count": null,
      "outputs": [
        {
          "output_type": "execute_result",
          "data": {
            "text/plain": [
              "gravity              20127\n",
              "nira/tanira           6130\n",
              "other                 4768\n",
              "submersible           3560\n",
              "swn 80                2771\n",
              "mono                  2164\n",
              "india mark ii         1768\n",
              "afridev               1339\n",
              "ksb                   1043\n",
              "other - rope pump      335\n",
              "other - swn 81         177\n",
              "windmill                89\n",
              "india mark iii          77\n",
              "cemo                    70\n",
              "other - play pump       65\n",
              "walimi                  39\n",
              "Name: extraction_type, dtype: int64"
            ]
          },
          "metadata": {
            "tags": []
          },
          "execution_count": 39
        }
      ]
    },
    {
      "cell_type": "markdown",
      "metadata": {
        "id": "2OZgDTZWMhxQ"
      },
      "source": [
        "SINCE THE FEATURES CONTANS CATEGORICAL DATA , FEATURES WITH HIGH ARITY, WE ARE KEEPING THE TOP 15 VALUES ON THE BASIS oF THE FREQUENCY AND ASSIGNING ALL TEH REMAINING VALUES TO **OTHERS**"
      ]
    },
    {
      "cell_type": "code",
      "metadata": {
        "id": "3EkZ9NX-L_LT"
      },
      "source": [
        "def extraction_type_column(row):  \n",
        "    if row['extraction_type']=='gravity':\n",
        "        return 'gravity'\n",
        "    elif row['extraction_type']=='nira/tanira ':\n",
        "        return 'nira/tanira '\n",
        "    elif row['extraction_type']=='submersible':\n",
        "        return 'submersible'\n",
        "    elif row['extraction_type']=='swn 80':\n",
        "        return 'swn 80'\n",
        "    elif row['extraction_type']=='mono ':\n",
        "        return 'mono'    \n",
        "    elif row['extraction_type']=='india mark ii':\n",
        "        return 'india mark ii'\n",
        "    elif row['extraction_type']=='afridev':\n",
        "        return 'afridev'\n",
        "    elif row['extraction_type']=='ksb':\n",
        "        return 'ksb'\n",
        "    elif row['extraction_type']==\"other - rope pump\":\n",
        "        return 'other - rope pump'\n",
        "    elif row['extraction_type']==\"other - swn 81\":\n",
        "        return 'other - swn 81'\n",
        "    elif row['extraction_type']=='windmill':\n",
        "        return 'windmill'\n",
        "    elif row['extraction_type']=='cemo':\n",
        "        return 'cemo'\n",
        "    elif row['extraction_type']=='india mark iii':\n",
        "        return 'india mark iii'\n",
        "    elif row['extraction_type']==\"other - play pump\":\n",
        "        return \"other - play pump\"\n",
        "    elif row['extraction_type']=='walimi':\n",
        "        return 'walimi'\n",
        "\n",
        "    else:\n",
        "        return 'other'\n",
        "    \n",
        "data_train['extraction_type'] = data_train.apply(lambda row: extraction_type_column(row), axis=1)"
      ],
      "execution_count": null,
      "outputs": []
    },
    {
      "cell_type": "markdown",
      "metadata": {
        "id": "ev4xYtLIOO8U"
      },
      "source": [
        "analysisng the different target classication with respect to the extraction_type column using pivot table"
      ]
    },
    {
      "cell_type": "code",
      "metadata": {
        "colab": {
          "base_uri": "https://localhost:8080/",
          "height": 551
        },
        "id": "aZkA9L-hOKMs",
        "outputId": "1fef8d38-d1f4-4f59-84ec-b89574b5a675"
      },
      "source": [
        "piv_dataframe= data_train[['extraction_type','status_group','score_values']]\n",
        "table_pivot = piv_dataframe.pivot_table(index='extraction_type',\n",
        "                           columns='status_group', aggfunc='count')\n",
        "table_pivot"
      ],
      "execution_count": null,
      "outputs": [
        {
          "output_type": "execute_result",
          "data": {
            "text/html": [
              "<div>\n",
              "<style scoped>\n",
              "    .dataframe tbody tr th:only-of-type {\n",
              "        vertical-align: middle;\n",
              "    }\n",
              "\n",
              "    .dataframe tbody tr th {\n",
              "        vertical-align: top;\n",
              "    }\n",
              "\n",
              "    .dataframe thead tr th {\n",
              "        text-align: left;\n",
              "    }\n",
              "\n",
              "    .dataframe thead tr:last-of-type th {\n",
              "        text-align: right;\n",
              "    }\n",
              "</style>\n",
              "<table border=\"1\" class=\"dataframe\">\n",
              "  <thead>\n",
              "    <tr>\n",
              "      <th></th>\n",
              "      <th colspan=\"3\" halign=\"left\">score_values</th>\n",
              "    </tr>\n",
              "    <tr>\n",
              "      <th>status_group</th>\n",
              "      <th>functional</th>\n",
              "      <th>functional needs repair</th>\n",
              "      <th>non functional</th>\n",
              "    </tr>\n",
              "    <tr>\n",
              "      <th>extraction_type</th>\n",
              "      <th></th>\n",
              "      <th></th>\n",
              "      <th></th>\n",
              "    </tr>\n",
              "  </thead>\n",
              "  <tbody>\n",
              "    <tr>\n",
              "      <th>afridev</th>\n",
              "      <td>924.0</td>\n",
              "      <td>28.0</td>\n",
              "      <td>387.0</td>\n",
              "    </tr>\n",
              "    <tr>\n",
              "      <th>cemo</th>\n",
              "      <td>36.0</td>\n",
              "      <td>8.0</td>\n",
              "      <td>26.0</td>\n",
              "    </tr>\n",
              "    <tr>\n",
              "      <th>gravity</th>\n",
              "      <td>12046.0</td>\n",
              "      <td>2042.0</td>\n",
              "      <td>6039.0</td>\n",
              "    </tr>\n",
              "    <tr>\n",
              "      <th>india mark ii</th>\n",
              "      <td>1061.0</td>\n",
              "      <td>56.0</td>\n",
              "      <td>651.0</td>\n",
              "    </tr>\n",
              "    <tr>\n",
              "      <th>india mark iii</th>\n",
              "      <td>34.0</td>\n",
              "      <td>1.0</td>\n",
              "      <td>42.0</td>\n",
              "    </tr>\n",
              "    <tr>\n",
              "      <th>ksb</th>\n",
              "      <td>509.0</td>\n",
              "      <td>22.0</td>\n",
              "      <td>512.0</td>\n",
              "    </tr>\n",
              "    <tr>\n",
              "      <th>other</th>\n",
              "      <td>5659.0</td>\n",
              "      <td>734.0</td>\n",
              "      <td>6697.0</td>\n",
              "    </tr>\n",
              "    <tr>\n",
              "      <th>other - play pump</th>\n",
              "      <td>23.0</td>\n",
              "      <td>NaN</td>\n",
              "      <td>42.0</td>\n",
              "    </tr>\n",
              "    <tr>\n",
              "      <th>other - rope pump</th>\n",
              "      <td>212.0</td>\n",
              "      <td>14.0</td>\n",
              "      <td>109.0</td>\n",
              "    </tr>\n",
              "    <tr>\n",
              "      <th>other - swn 81</th>\n",
              "      <td>98.0</td>\n",
              "      <td>6.0</td>\n",
              "      <td>73.0</td>\n",
              "    </tr>\n",
              "    <tr>\n",
              "      <th>submersible</th>\n",
              "      <td>1964.0</td>\n",
              "      <td>160.0</td>\n",
              "      <td>1436.0</td>\n",
              "    </tr>\n",
              "    <tr>\n",
              "      <th>swn 80</th>\n",
              "      <td>1573.0</td>\n",
              "      <td>152.0</td>\n",
              "      <td>1046.0</td>\n",
              "    </tr>\n",
              "    <tr>\n",
              "      <th>walimi</th>\n",
              "      <td>18.0</td>\n",
              "      <td>10.0</td>\n",
              "      <td>11.0</td>\n",
              "    </tr>\n",
              "    <tr>\n",
              "      <th>windmill</th>\n",
              "      <td>37.0</td>\n",
              "      <td>5.0</td>\n",
              "      <td>47.0</td>\n",
              "    </tr>\n",
              "  </tbody>\n",
              "</table>\n",
              "</div>"
            ],
            "text/plain": [
              "                  score_values                                       \n",
              "status_group        functional functional needs repair non functional\n",
              "extraction_type                                                      \n",
              "afridev                  924.0                    28.0          387.0\n",
              "cemo                      36.0                     8.0           26.0\n",
              "gravity                12046.0                  2042.0         6039.0\n",
              "india mark ii           1061.0                    56.0          651.0\n",
              "india mark iii            34.0                     1.0           42.0\n",
              "ksb                      509.0                    22.0          512.0\n",
              "other                   5659.0                   734.0         6697.0\n",
              "other - play pump         23.0                     NaN           42.0\n",
              "other - rope pump        212.0                    14.0          109.0\n",
              "other - swn 81            98.0                     6.0           73.0\n",
              "submersible             1964.0                   160.0         1436.0\n",
              "swn 80                  1573.0                   152.0         1046.0\n",
              "walimi                    18.0                    10.0           11.0\n",
              "windmill                  37.0                     5.0           47.0"
            ]
          },
          "metadata": {
            "tags": []
          },
          "execution_count": 41
        }
      ]
    },
    {
      "cell_type": "markdown",
      "metadata": {
        "id": "T6NoQGuOOwq-"
      },
      "source": [
        "NO of pumps in each class wrt to extraction_type can be described above"
      ]
    },
    {
      "cell_type": "code",
      "metadata": {
        "colab": {
          "base_uri": "https://localhost:8080/",
          "height": 465
        },
        "id": "JKTi-4ctOdzH",
        "outputId": "cd470c9a-2bf9-4833-8949-060d3b3ac542"
      },
      "source": [
        "figure, axes = pyplot.subplots(figsize=dimension)\n",
        "sns.heatmap(table_pivot, cmap = 'GnBu')"
      ],
      "execution_count": null,
      "outputs": [
        {
          "output_type": "execute_result",
          "data": {
            "text/plain": [
              "<matplotlib.axes._subplots.AxesSubplot at 0x7f865044ae10>"
            ]
          },
          "metadata": {
            "tags": []
          },
          "execution_count": 42
        },
        {
          "output_type": "display_data",
          "data": {
            "image/png": "[encoded data removed]",
            "text/plain": [
              "<Figure size 1224x504 with 2 Axes>"
            ]
          },
          "metadata": {
            "tags": [],
            "needs_background": "light"
          }
        }
      ]
    },
    {
      "cell_type": "markdown",
      "metadata": {
        "id": "bGMoMCrDO8Mo"
      },
      "source": [
        "**graphical represntation of extraction_type vs classes of pump using heatmap**"
      ]
    },
    {
      "cell_type": "markdown",
      "metadata": {
        "id": "nJJiOUNWPLqB"
      },
      "source": [
        "in order to decrease overfittin we are again going to drop some of te features wich are not as relevant as that of the other features"
      ]
    },
    {
      "cell_type": "code",
      "metadata": {
        "id": "ZeVKkoddO3qS"
      },
      "source": [
        "data_train = data_train.drop(['management_group','longitude', 'latitude', 'region_code', 'district_code'], axis=1)"
      ],
      "execution_count": null,
      "outputs": []
    },
    {
      "cell_type": "code",
      "metadata": {
        "id": "kjA3vSj0PrM9"
      },
      "source": [
        "# here we are dropping the scores_value which we are using for alaculation purposes above:\n",
        "data_train = data_train.drop(['score_values'], axis=1)"
      ],
      "execution_count": null,
      "outputs": []
    },
    {
      "cell_type": "markdown",
      "metadata": {
        "id": "G-knm5l5QOw5"
      },
      "source": [
        "# **FINAL DATA AFTER ALL THE PROCESSING **"
      ]
    },
    {
      "cell_type": "code",
      "metadata": {
        "colab": {
          "base_uri": "https://localhost:8080/",
          "height": 635
        },
        "id": "_vYB-hzDQKfG",
        "outputId": "c08ad669-7ff2-444d-a70a-f1b7ef977d64"
      },
      "source": [
        "data_train"
      ],
      "execution_count": null,
      "outputs": [
        {
          "output_type": "execute_result",
          "data": {
            "text/html": [
              "<div>\n",
              "<style scoped>\n",
              "    .dataframe tbody tr th:only-of-type {\n",
              "        vertical-align: middle;\n",
              "    }\n",
              "\n",
              "    .dataframe tbody tr th {\n",
              "        vertical-align: top;\n",
              "    }\n",
              "\n",
              "    .dataframe thead th {\n",
              "        text-align: right;\n",
              "    }\n",
              "</style>\n",
              "<table border=\"1\" class=\"dataframe\">\n",
              "  <thead>\n",
              "    <tr style=\"text-align: right;\">\n",
              "      <th></th>\n",
              "      <th>amount_tsh</th>\n",
              "      <th>funder</th>\n",
              "      <th>gps_height</th>\n",
              "      <th>installer</th>\n",
              "      <th>basin</th>\n",
              "      <th>subvillage</th>\n",
              "      <th>population</th>\n",
              "      <th>public_meeting</th>\n",
              "      <th>scheme_management</th>\n",
              "      <th>scheme_name</th>\n",
              "      <th>permit</th>\n",
              "      <th>construction_year</th>\n",
              "      <th>extraction_type</th>\n",
              "      <th>payment_type</th>\n",
              "      <th>water_quality</th>\n",
              "      <th>quantity_group</th>\n",
              "      <th>source_type</th>\n",
              "      <th>source_class</th>\n",
              "      <th>waterpoint_type</th>\n",
              "      <th>waterpoint_type_group</th>\n",
              "      <th>status_group</th>\n",
              "    </tr>\n",
              "  </thead>\n",
              "  <tbody>\n",
              "    <tr>\n",
              "      <th>0</th>\n",
              "      <td>7.0</td>\n",
              "      <td>other</td>\n",
              "      <td>1203</td>\n",
              "      <td>CES</td>\n",
              "      <td>Pangani</td>\n",
              "      <td>Mafurini</td>\n",
              "      <td>90</td>\n",
              "      <td>True</td>\n",
              "      <td>Water Board</td>\n",
              "      <td>other</td>\n",
              "      <td>True</td>\n",
              "      <td>2008</td>\n",
              "      <td>gravity</td>\n",
              "      <td>per bucket</td>\n",
              "      <td>soft</td>\n",
              "      <td>enough</td>\n",
              "      <td>spring</td>\n",
              "      <td>groundwater</td>\n",
              "      <td>communal standpipe</td>\n",
              "      <td>communal standpipe</td>\n",
              "      <td>functional</td>\n",
              "    </tr>\n",
              "    <tr>\n",
              "      <th>1</th>\n",
              "      <td>0.0</td>\n",
              "      <td>other</td>\n",
              "      <td>1409</td>\n",
              "      <td>other</td>\n",
              "      <td>Lake Nyasa</td>\n",
              "      <td>Ituni</td>\n",
              "      <td>70</td>\n",
              "      <td>False</td>\n",
              "      <td>Private operator</td>\n",
              "      <td>other</td>\n",
              "      <td>False</td>\n",
              "      <td>1984</td>\n",
              "      <td>gravity</td>\n",
              "      <td>never pay</td>\n",
              "      <td>soft</td>\n",
              "      <td>enough</td>\n",
              "      <td>spring</td>\n",
              "      <td>groundwater</td>\n",
              "      <td>communal standpipe</td>\n",
              "      <td>communal standpipe</td>\n",
              "      <td>functional</td>\n",
              "    </tr>\n",
              "    <tr>\n",
              "      <th>2</th>\n",
              "      <td>0.0</td>\n",
              "      <td>Government Of Tanzania</td>\n",
              "      <td>1572</td>\n",
              "      <td>DWE</td>\n",
              "      <td>Pangani</td>\n",
              "      <td>Melebuki</td>\n",
              "      <td>150</td>\n",
              "      <td>True</td>\n",
              "      <td>VWC</td>\n",
              "      <td>other</td>\n",
              "      <td>True</td>\n",
              "      <td>2002</td>\n",
              "      <td>gravity</td>\n",
              "      <td>never pay</td>\n",
              "      <td>soft</td>\n",
              "      <td>insufficient</td>\n",
              "      <td>spring</td>\n",
              "      <td>groundwater</td>\n",
              "      <td>communal standpipe</td>\n",
              "      <td>communal standpipe</td>\n",
              "      <td>non functional</td>\n",
              "    </tr>\n",
              "    <tr>\n",
              "      <th>3</th>\n",
              "      <td>0.0</td>\n",
              "      <td>District Council</td>\n",
              "      <td>0</td>\n",
              "      <td>District Council</td>\n",
              "      <td>Rufiji</td>\n",
              "      <td>Darajani</td>\n",
              "      <td>0</td>\n",
              "      <td>True</td>\n",
              "      <td>VWC</td>\n",
              "      <td>other</td>\n",
              "      <td>True</td>\n",
              "      <td>0</td>\n",
              "      <td>gravity</td>\n",
              "      <td>annually</td>\n",
              "      <td>soft</td>\n",
              "      <td>insufficient</td>\n",
              "      <td>river/lake</td>\n",
              "      <td>surface</td>\n",
              "      <td>communal standpipe</td>\n",
              "      <td>communal standpipe</td>\n",
              "      <td>functional</td>\n",
              "    </tr>\n",
              "    <tr>\n",
              "      <th>4</th>\n",
              "      <td>300.0</td>\n",
              "      <td>District Council</td>\n",
              "      <td>1283</td>\n",
              "      <td>District Council</td>\n",
              "      <td>Pangani</td>\n",
              "      <td>Mwira A</td>\n",
              "      <td>34</td>\n",
              "      <td>True</td>\n",
              "      <td>VWC</td>\n",
              "      <td>other</td>\n",
              "      <td>False</td>\n",
              "      <td>2007</td>\n",
              "      <td>gravity</td>\n",
              "      <td>monthly</td>\n",
              "      <td>soft</td>\n",
              "      <td>insufficient</td>\n",
              "      <td>spring</td>\n",
              "      <td>groundwater</td>\n",
              "      <td>communal standpipe</td>\n",
              "      <td>communal standpipe</td>\n",
              "      <td>functional</td>\n",
              "    </tr>\n",
              "    <tr>\n",
              "      <th>...</th>\n",
              "      <td>...</td>\n",
              "      <td>...</td>\n",
              "      <td>...</td>\n",
              "      <td>...</td>\n",
              "      <td>...</td>\n",
              "      <td>...</td>\n",
              "      <td>...</td>\n",
              "      <td>...</td>\n",
              "      <td>...</td>\n",
              "      <td>...</td>\n",
              "      <td>...</td>\n",
              "      <td>...</td>\n",
              "      <td>...</td>\n",
              "      <td>...</td>\n",
              "      <td>...</td>\n",
              "      <td>...</td>\n",
              "      <td>...</td>\n",
              "      <td>...</td>\n",
              "      <td>...</td>\n",
              "      <td>...</td>\n",
              "      <td>...</td>\n",
              "    </tr>\n",
              "    <tr>\n",
              "      <th>44545</th>\n",
              "      <td>0.0</td>\n",
              "      <td>World Vision</td>\n",
              "      <td>0</td>\n",
              "      <td>other</td>\n",
              "      <td>Lake Tanganyika</td>\n",
              "      <td>Bukenge</td>\n",
              "      <td>0</td>\n",
              "      <td>True</td>\n",
              "      <td>others</td>\n",
              "      <td>other</td>\n",
              "      <td>True</td>\n",
              "      <td>0</td>\n",
              "      <td>other</td>\n",
              "      <td>unknown</td>\n",
              "      <td>milky</td>\n",
              "      <td>enough</td>\n",
              "      <td>shallow well</td>\n",
              "      <td>groundwater</td>\n",
              "      <td>hand pump</td>\n",
              "      <td>hand pump</td>\n",
              "      <td>functional</td>\n",
              "    </tr>\n",
              "    <tr>\n",
              "      <th>44546</th>\n",
              "      <td>0.0</td>\n",
              "      <td>other</td>\n",
              "      <td>0</td>\n",
              "      <td>other</td>\n",
              "      <td>Lake Victoria</td>\n",
              "      <td>Ilyamchele Center</td>\n",
              "      <td>0</td>\n",
              "      <td>True</td>\n",
              "      <td>WUA</td>\n",
              "      <td>other</td>\n",
              "      <td>True</td>\n",
              "      <td>0</td>\n",
              "      <td>afridev</td>\n",
              "      <td>monthly</td>\n",
              "      <td>soft</td>\n",
              "      <td>enough</td>\n",
              "      <td>borehole</td>\n",
              "      <td>groundwater</td>\n",
              "      <td>hand pump</td>\n",
              "      <td>hand pump</td>\n",
              "      <td>non functional</td>\n",
              "    </tr>\n",
              "    <tr>\n",
              "      <th>44547</th>\n",
              "      <td>0.0</td>\n",
              "      <td>Government Of Tanzania</td>\n",
              "      <td>969</td>\n",
              "      <td>other</td>\n",
              "      <td>Ruvuma / Southern Coast</td>\n",
              "      <td>Masango</td>\n",
              "      <td>60</td>\n",
              "      <td>not_known</td>\n",
              "      <td>VWC</td>\n",
              "      <td>Government</td>\n",
              "      <td>not_known</td>\n",
              "      <td>1977</td>\n",
              "      <td>gravity</td>\n",
              "      <td>unknown</td>\n",
              "      <td>soft</td>\n",
              "      <td>seasonal</td>\n",
              "      <td>spring</td>\n",
              "      <td>groundwater</td>\n",
              "      <td>communal standpipe</td>\n",
              "      <td>communal standpipe</td>\n",
              "      <td>functional</td>\n",
              "    </tr>\n",
              "    <tr>\n",
              "      <th>44548</th>\n",
              "      <td>200.0</td>\n",
              "      <td>other</td>\n",
              "      <td>1269</td>\n",
              "      <td>other</td>\n",
              "      <td>Pangani</td>\n",
              "      <td>Mng'Ende</td>\n",
              "      <td>80</td>\n",
              "      <td>True</td>\n",
              "      <td>Water authority</td>\n",
              "      <td>other</td>\n",
              "      <td>True</td>\n",
              "      <td>2011</td>\n",
              "      <td>gravity</td>\n",
              "      <td>monthly</td>\n",
              "      <td>soft</td>\n",
              "      <td>insufficient</td>\n",
              "      <td>spring</td>\n",
              "      <td>groundwater</td>\n",
              "      <td>communal standpipe</td>\n",
              "      <td>communal standpipe</td>\n",
              "      <td>functional</td>\n",
              "    </tr>\n",
              "    <tr>\n",
              "      <th>44549</th>\n",
              "      <td>0.0</td>\n",
              "      <td>World Vision</td>\n",
              "      <td>0</td>\n",
              "      <td>other</td>\n",
              "      <td>Lake Tanganyika</td>\n",
              "      <td>Itunda A</td>\n",
              "      <td>0</td>\n",
              "      <td>True</td>\n",
              "      <td>VWC</td>\n",
              "      <td>other</td>\n",
              "      <td>False</td>\n",
              "      <td>0</td>\n",
              "      <td>other</td>\n",
              "      <td>on failure</td>\n",
              "      <td>soft</td>\n",
              "      <td>enough</td>\n",
              "      <td>shallow well</td>\n",
              "      <td>groundwater</td>\n",
              "      <td>hand pump</td>\n",
              "      <td>hand pump</td>\n",
              "      <td>functional</td>\n",
              "    </tr>\n",
              "  </tbody>\n",
              "</table>\n",
              "<p>44550 rows × 21 columns</p>\n",
              "</div>"
            ],
            "text/plain": [
              "       amount_tsh                  funder  ...  waterpoint_type_group    status_group\n",
              "0             7.0                   other  ...     communal standpipe      functional\n",
              "1             0.0                   other  ...     communal standpipe      functional\n",
              "2             0.0  Government Of Tanzania  ...     communal standpipe  non functional\n",
              "3             0.0        District Council  ...     communal standpipe      functional\n",
              "4           300.0        District Council  ...     communal standpipe      functional\n",
              "...           ...                     ...  ...                    ...             ...\n",
              "44545         0.0            World Vision  ...              hand pump      functional\n",
              "44546         0.0                   other  ...              hand pump  non functional\n",
              "44547         0.0  Government Of Tanzania  ...     communal standpipe      functional\n",
              "44548       200.0                   other  ...     communal standpipe      functional\n",
              "44549         0.0            World Vision  ...              hand pump      functional\n",
              "\n",
              "[44550 rows x 21 columns]"
            ]
          },
          "metadata": {
            "tags": []
          },
          "execution_count": 45
        }
      ]
    },
    {
      "cell_type": "markdown",
      "metadata": {
        "id": "pRkhXtAqQ7Gx"
      },
      "source": [
        "**CONFUSION MATRIX**"
      ]
    },
    {
      "cell_type": "code",
      "metadata": {
        "id": "osTLyciyQMS1"
      },
      "source": [
        "from sklearn.metrics import confusion_matrix\n",
        "labels=['functional','functional needs repair','non functional']\n",
        "def confusion_matrix(cm, title='Confusion matrix', cmap=plt.cm.Blues):\n",
        "    plt.imshow(cm, interpolation='nearest', cmap=cmap)\n",
        "    plt.title(title)\n",
        "    plt.colorbar(shrink=1)\n",
        "    tick_marks = np.arange(len(labels))\n",
        "    plt.xticks(tick_marks, labels, rotation=60, ha='right', fontsize=15)\n",
        "    plt.yticks(tick_marks, labels , fontsize=15)\n",
        "    plt.tight_layout()\n",
        "    plt.ylabel('True_label', fontsize=15)\n",
        "    plt.xlabel('Predicted_label', fontsize=15)"
      ],
      "execution_count": null,
      "outputs": []
    },
    {
      "cell_type": "markdown",
      "metadata": {
        "id": "F0kBoZqdRhaO"
      },
      "source": [
        "TRANSFORMING THE CATEGORICAL FEATUES AND CONVERTING THEM INTO THE LIST"
      ]
    },
    {
      "cell_type": "code",
      "metadata": {
        "id": "Hn6KfYknRPii"
      },
      "source": [
        "def transform(dataframe, column):\n",
        "    unique_values = set(dataframe[column].tolist())\n",
        "    transformer_dict = {}\n",
        "    for index, value in enumerate(unique_values):\n",
        "        transformer_dict[value] = index\n",
        "    dataframe[column] = dataframe[column].apply(lambda y: transformer_dict[y])\n",
        "    return dataframe"
      ],
      "execution_count": null,
      "outputs": []
    },
    {
      "cell_type": "code",
      "metadata": {
        "id": "2gchQIG9R6CM"
      },
      "source": [
        "integer_columns = ['population','gps_height'] \n",
        "columns_to_transform = [col for col in data_train.columns if col not in integer_columns]\n",
        "for column in columns_to_transform: \n",
        "    data_train = transform(data_train, column)"
      ],
      "execution_count": null,
      "outputs": []
    },
    {
      "cell_type": "markdown",
      "metadata": {
        "id": "Dia2cXV9ScVz"
      },
      "source": [
        "SPLITTING THE DATA INTO TEST AND TRAIN"
      ]
    },
    {
      "cell_type": "code",
      "metadata": {
        "id": "Mld1GmHpgItw"
      },
      "source": [
        "data_train_n=data_train.drop(['status_group'], axis=1)"
      ],
      "execution_count": null,
      "outputs": []
    },
    {
      "cell_type": "code",
      "metadata": {
        "id": "dbOzvvLaSCW2"
      },
      "source": [
        "data_x = data_train_n.to_numpy()\n",
        "data_y = data_train[\"status_group\"].tolist()"
      ],
      "execution_count": null,
      "outputs": []
    },
    {
      "cell_type": "code",
      "metadata": {
        "id": "pVllqkAZTArS"
      },
      "source": [
        "# spliiting the data into training and testing file\n",
        "import sklearn.model_selection \n",
        "x_train, x_test, y_train, y_test = sklearn.model_selection.train_test_split(data_x, data_y, test_size=0.3, random_state = 0)"
      ],
      "execution_count": null,
      "outputs": []
    },
    {
      "cell_type": "markdown",
      "metadata": {
        "id": "nG2LAe9sTW8O"
      },
      "source": [
        "# PART4:HYPERPARAMETER TUNING"
      ]
    },
    {
      "cell_type": "markdown",
      "metadata": {
        "id": "Z3ppbM0yUhls"
      },
      "source": [
        "The goal of ensemble methods is to combine the predictions of several base estimators built with a given learning algorithm in order to improve generalizability/robustness over a single estimator."
      ]
    },
    {
      "cell_type": "markdown",
      "metadata": {
        "id": "_Sma7ZOJUiqi"
      },
      "source": [
        "HERE WE ARE USING THE ENSEMBLE METHOD: THE GOAL IS TO COMBINE THE PREDICTION OF SEVERAL BASE ESTIMATOR HAING A LEANING ALGORITH WHICH IMPROVE ROBUSTNESS OVER A SINGLE ESTIMATOR"
      ]
    },
    {
      "cell_type": "markdown",
      "metadata": {
        "id": "lMBlgydkVaop"
      },
      "source": [
        "1) **RANDOM FOREST**"
      ]
    },
    {
      "cell_type": "code",
      "metadata": {
        "id": "432uMuiBTCYX"
      },
      "source": [
        "import sklearn.ensemble\n",
        "rfc = sklearn.ensemble.RandomForestClassifier(n_estimators=1000, min_samples_split=6, criterion='gini',  max_features='auto', oob_score=True, random_state=1, n_jobs=-1)"
      ],
      "execution_count": null,
      "outputs": []
    },
    {
      "cell_type": "code",
      "metadata": {
        "colab": {
          "base_uri": "https://localhost:8080/"
        },
        "id": "BlkQRIOJVlGf",
        "outputId": "a57c77d9-89bd-4f2b-a151-fb62621818e5"
      },
      "source": [
        "rfc.fit(x_train, y_train)\n",
        " \n",
        "print('Random Forest Classifier Score of train accuracy :', rfc.score(x_train, y_train))\n",
        "print('Random Forest Classifier Score of test accuracy :', rfc.score(x_test, y_test))"
      ],
      "execution_count": null,
      "outputs": [
        {
          "output_type": "stream",
          "text": [
            "Random Forest Classifier Score of train accuracy : 0.9344556677890011\n",
            "Random Forest Classifier Score of test accuracy : 0.7880284324728769\n"
          ],
          "name": "stdout"
        }
      ]
    },
    {
      "cell_type": "markdown",
      "metadata": {
        "id": "dEkliVchWHVC"
      },
      "source": [
        "feature importance"
      ]
    },
    {
      "cell_type": "code",
      "metadata": {
        "colab": {
          "base_uri": "https://localhost:8080/"
        },
        "id": "Vzud38V0V0UW",
        "outputId": "d68a5e37-96cc-4ff4-deee-dbf4e31c52b5"
      },
      "source": [
        "print(rfc.feature_importances_)"
      ],
      "execution_count": null,
      "outputs": [
        {
          "output_type": "stream",
          "text": [
            "[0.03601002 0.04513294 0.08767326 0.03053837 0.05117395 0.13041177\n",
            " 0.06058535 0.01687645 0.03707287 0.01078804 0.01999902 0.07817391\n",
            " 0.04309576 0.05247223 0.02038601 0.13944952 0.03399342 0.01352826\n",
            " 0.05422523 0.03841361]\n"
          ],
          "name": "stdout"
        }
      ]
    },
    {
      "cell_type": "code",
      "metadata": {
        "colab": {
          "base_uri": "https://localhost:8080/",
          "height": 302
        },
        "id": "1MuPMW6qX12J",
        "outputId": "ff42b821-b6cf-4949-c08a-a21cc425ce7a"
      },
      "source": [
        "importance = rfc.feature_importances_\n",
        "importance = pd.DataFrame(importance, index=data_train_n.columns, \n",
        "                          columns=[\"Importance\"])\n",
        " \n",
        "importance[\"Std\"] = np.std([tree.feature_importances_ \n",
        "                            for tree in rfc.estimators_], axis=0)\n",
        " \n",
        "X = range(importance.shape[0])\n",
        "Y = importance.iloc[:, 0]\n",
        "y_err = importance.iloc[:, 1]\n",
        "lables = list(data_train.columns.values)\n",
        " \n",
        " \n",
        " \n",
        "ax = plt.bar(X, Y, yerr=y_err ,align=\"center\")\n",
        "plt.xlabel('Features', fontsize = 15)\n",
        "plt.ylabel('Importance', fontsize = 15)"
      ],
      "execution_count": null,
      "outputs": [
        {
          "output_type": "execute_result",
          "data": {
            "text/plain": [
              "Text(0, 0.5, 'Importance')"
            ]
          },
          "metadata": {
            "tags": []
          },
          "execution_count": 55
        },
        {
          "output_type": "display_data",
          "data": {
            "image/png": "[encoded data removed]",
            "text/plain": [
              "<Figure size 432x288 with 1 Axes>"
            ]
          },
          "metadata": {
            "tags": [],
            "needs_background": "light"
          }
        }
      ]
    },
    {
      "cell_type": "code",
      "metadata": {
        "id": "fQs_zh4-X-do"
      },
      "source": [
        "from sklearn.metrics import classification_report"
      ],
      "execution_count": null,
      "outputs": []
    },
    {
      "cell_type": "code",
      "metadata": {
        "id": "BCnt53YtYbjZ"
      },
      "source": [
        "predicted = rfc.predict(x_test)"
      ],
      "execution_count": null,
      "outputs": []
    },
    {
      "cell_type": "code",
      "metadata": {
        "colab": {
          "base_uri": "https://localhost:8080/"
        },
        "id": "bZg25DCSYhaa",
        "outputId": "5e376125-72e3-4e22-ec1e-39437d01e5a1"
      },
      "source": [
        "report = classification_report(y_test, predicted)\n",
        "print(report)"
      ],
      "execution_count": null,
      "outputs": [
        {
          "output_type": "stream",
          "text": [
            "              precision    recall  f1-score   support\n",
            "\n",
            "           0       0.59      0.25      0.36       970\n",
            "           1       0.78      0.89      0.83      7290\n",
            "           2       0.82      0.74      0.78      5105\n",
            "\n",
            "    accuracy                           0.79     13365\n",
            "   macro avg       0.73      0.63      0.66     13365\n",
            "weighted avg       0.78      0.79      0.78     13365\n",
            "\n"
          ],
          "name": "stdout"
        }
      ]
    },
    {
      "cell_type": "markdown",
      "metadata": {
        "id": "WOHqReRiaPdK"
      },
      "source": [
        "**DECISION TREE**"
      ]
    },
    {
      "cell_type": "code",
      "metadata": {
        "id": "9l_1U_tzYkO4"
      },
      "source": [
        "from sklearn.tree import DecisionTreeClassifier"
      ],
      "execution_count": null,
      "outputs": []
    },
    {
      "cell_type": "code",
      "metadata": {
        "id": "tRQiDsPjYxaY"
      },
      "source": [
        "dtc = DecisionTreeClassifier(criterion='gini',\n",
        "                            max_depth = 10,\n",
        "                            max_features = 'auto',\n",
        "                            random_state = 1,\n",
        "                            splitter = 'best')"
      ],
      "execution_count": null,
      "outputs": []
    },
    {
      "cell_type": "code",
      "metadata": {
        "colab": {
          "base_uri": "https://localhost:8080/"
        },
        "id": "FXCuhJY7aZA6",
        "outputId": "f472c830-3116-439e-f7cd-481a5fe5de3c"
      },
      "source": [
        "dtc.fit(x_train, y_train)"
      ],
      "execution_count": null,
      "outputs": [
        {
          "output_type": "execute_result",
          "data": {
            "text/plain": [
              "DecisionTreeClassifier(ccp_alpha=0.0, class_weight=None, criterion='gini',\n",
              "                       max_depth=10, max_features='auto', max_leaf_nodes=None,\n",
              "                       min_impurity_decrease=0.0, min_impurity_split=None,\n",
              "                       min_samples_leaf=1, min_samples_split=2,\n",
              "                       min_weight_fraction_leaf=0.0, presort='deprecated',\n",
              "                       random_state=1, splitter='best')"
            ]
          },
          "metadata": {
            "tags": []
          },
          "execution_count": 61
        }
      ]
    },
    {
      "cell_type": "code",
      "metadata": {
        "colab": {
          "base_uri": "https://localhost:8080/"
        },
        "id": "VhCWi73TacM_",
        "outputId": "455bf5ef-ae81-43a2-b618-3d6a02eb16e4"
      },
      "source": [
        "print(\"Train Score :\", dtc.score(x_train, y_train))\n",
        "print(\"Test Score :\", dtc.score(x_test, y_test))"
      ],
      "execution_count": null,
      "outputs": [
        {
          "output_type": "stream",
          "text": [
            "Train Score : 0.7414462081128748\n",
            "Test Score : 0.7084175084175084\n"
          ],
          "name": "stdout"
        }
      ]
    },
    {
      "cell_type": "code",
      "metadata": {
        "colab": {
          "base_uri": "https://localhost:8080/"
        },
        "id": "ce3HxpvKahoc",
        "outputId": "217b8b14-3a74-479f-89db-305741eea125"
      },
      "source": [
        "predt = dtc.predict(x_test)\n",
        "report = classification_report(y_test, predt)\n",
        "print(report)"
      ],
      "execution_count": null,
      "outputs": [
        {
          "output_type": "stream",
          "text": [
            "              precision    recall  f1-score   support\n",
            "\n",
            "           0       0.48      0.11      0.18       970\n",
            "           1       0.72      0.81      0.77      7290\n",
            "           2       0.69      0.67      0.68      5105\n",
            "\n",
            "    accuracy                           0.71     13365\n",
            "   macro avg       0.63      0.53      0.54     13365\n",
            "weighted avg       0.69      0.71      0.69     13365\n",
            "\n"
          ],
          "name": "stdout"
        }
      ]
    },
    {
      "cell_type": "markdown",
      "metadata": {
        "id": "m1tsdnxkcL7g"
      },
      "source": [
        "EXTRA TREE CLASSIFIER"
      ]
    },
    {
      "cell_type": "code",
      "metadata": {
        "id": "IODKThZaa9mZ"
      },
      "source": [
        "from sklearn.ensemble import ExtraTreesClassifier\n",
        " \n",
        "ETC = ExtraTreesClassifier(n_estimators=1000,min_samples_split=10)"
      ],
      "execution_count": null,
      "outputs": []
    },
    {
      "cell_type": "code",
      "metadata": {
        "colab": {
          "base_uri": "https://localhost:8080/"
        },
        "id": "z25jMSLScHS5",
        "outputId": "e86067a5-7489-4753-a38c-99f204618255"
      },
      "source": [
        "ETC.fit(x_train, y_train)"
      ],
      "execution_count": null,
      "outputs": [
        {
          "output_type": "execute_result",
          "data": {
            "text/plain": [
              "ExtraTreesClassifier(bootstrap=False, ccp_alpha=0.0, class_weight=None,\n",
              "                     criterion='gini', max_depth=None, max_features='auto',\n",
              "                     max_leaf_nodes=None, max_samples=None,\n",
              "                     min_impurity_decrease=0.0, min_impurity_split=None,\n",
              "                     min_samples_leaf=1, min_samples_split=10,\n",
              "                     min_weight_fraction_leaf=0.0, n_estimators=1000,\n",
              "                     n_jobs=None, oob_score=False, random_state=None, verbose=0,\n",
              "                     warm_start=False)"
            ]
          },
          "metadata": {
            "tags": []
          },
          "execution_count": 65
        }
      ]
    },
    {
      "cell_type": "code",
      "metadata": {
        "colab": {
          "base_uri": "https://localhost:8080/"
        },
        "id": "Hi3G19MgcU4P",
        "outputId": "dfca6731-8782-49ca-e867-64f99e34ee28"
      },
      "source": [
        "print('Extra Tree Classifier Score training:',ETC.score(x_train, y_train))\n",
        "print('Extra Tree Classifier Score  test :',ETC.score(x_test, y_test))"
      ],
      "execution_count": null,
      "outputs": [
        {
          "output_type": "stream",
          "text": [
            "Extra Tree Classifier Score training: 0.9061728395061729\n",
            "Extra Tree Classifier Score  test : 0.7872802095024317\n"
          ],
          "name": "stdout"
        }
      ]
    },
    {
      "cell_type": "markdown",
      "metadata": {
        "id": "zegBNThJdJ3E"
      },
      "source": [
        "LINE SEARCH CV"
      ]
    },
    {
      "cell_type": "code",
      "metadata": {
        "id": "aexZc6ptceEl"
      },
      "source": [
        "from sklearn.svm import LinearSVC\n",
        "from sklearn.model_selection import GridSearchCV\n",
        "from sklearn.pipeline import Pipeline\n",
        "from sklearn.preprocessing import StandardScaler"
      ],
      "execution_count": null,
      "outputs": []
    },
    {
      "cell_type": "code",
      "metadata": {
        "id": "b6EQopRNdNdJ"
      },
      "source": [
        "pipe = Pipeline([('scl', StandardScaler()), ('clf', LinearSVC())])"
      ],
      "execution_count": null,
      "outputs": []
    },
    {
      "cell_type": "code",
      "metadata": {
        "id": "jBQUaWB4dP2f"
      },
      "source": [
        "param_grid = {'clf__C':[0.01],'clf__class_weight':[None]}"
      ],
      "execution_count": null,
      "outputs": []
    },
    {
      "cell_type": "code",
      "metadata": {
        "id": "ytY1_RFNdSGS"
      },
      "source": [
        "estimator = GridSearchCV(estimator=pipe,param_grid=param_grid,n_jobs=-1)"
      ],
      "execution_count": null,
      "outputs": []
    },
    {
      "cell_type": "code",
      "metadata": {
        "colab": {
          "base_uri": "https://localhost:8080/"
        },
        "id": "BlxmkVrTdXVx",
        "outputId": "ca2687e1-7720-4764-bda4-865c31a9d10c"
      },
      "source": [
        "estimator.fit(x_train, y_train)"
      ],
      "execution_count": null,
      "outputs": [
        {
          "output_type": "execute_result",
          "data": {
            "text/plain": [
              "GridSearchCV(cv=None, error_score=nan,\n",
              "             estimator=Pipeline(memory=None,\n",
              "                                steps=[('scl',\n",
              "                                        StandardScaler(copy=True,\n",
              "                                                       with_mean=True,\n",
              "                                                       with_std=True)),\n",
              "                                       ('clf',\n",
              "                                        LinearSVC(C=1.0, class_weight=None,\n",
              "                                                  dual=True, fit_intercept=True,\n",
              "                                                  intercept_scaling=1,\n",
              "                                                  loss='squared_hinge',\n",
              "                                                  max_iter=1000,\n",
              "                                                  multi_class='ovr',\n",
              "                                                  penalty='l2',\n",
              "                                                  random_state=None, tol=0.0001,\n",
              "                                                  verbose=0))],\n",
              "                                verbose=False),\n",
              "             iid='deprecated', n_jobs=-1,\n",
              "             param_grid={'clf__C': [0.01], 'clf__class_weight': [None]},\n",
              "             pre_dispatch='2*n_jobs', refit=True, return_train_score=False,\n",
              "             scoring=None, verbose=0)"
            ]
          },
          "metadata": {
            "tags": []
          },
          "execution_count": 71
        }
      ]
    },
    {
      "cell_type": "code",
      "metadata": {
        "colab": {
          "base_uri": "https://localhost:8080/"
        },
        "id": "7uH06_0dda0E",
        "outputId": "3e3d5330-1c47-4775-b40e-63734bf6b0d0"
      },
      "source": [
        "print('Linear Search CV Training Score :',estimator.score(x_train, y_train))\n",
        "print('Linear Search CV Test Score :',estimator.score(x_test, y_test))"
      ],
      "execution_count": null,
      "outputs": [
        {
          "output_type": "stream",
          "text": [
            "Linear Search CV Training Score : 0.6521083854417188\n",
            "Linear Search CV Test Score : 0.6502057613168725\n"
          ],
          "name": "stdout"
        }
      ]
    },
    {
      "cell_type": "markdown",
      "metadata": {
        "id": "j3C6VL9ddmCf"
      },
      "source": [
        "GRADIENT BOOSTING"
      ]
    },
    {
      "cell_type": "code",
      "metadata": {
        "id": "JAQBCnKidfkq"
      },
      "source": [
        "from sklearn.model_selection import GridSearchCV\n",
        "from sklearn.ensemble import GradientBoostingClassifier"
      ],
      "execution_count": null,
      "outputs": []
    },
    {
      "cell_type": "code",
      "metadata": {
        "id": "3nUXVVTVdyAQ"
      },
      "source": [
        "GBC = GradientBoostingClassifier()"
      ],
      "execution_count": null,
      "outputs": []
    },
    {
      "cell_type": "code",
      "metadata": {
        "id": "nrnPDMJ-d0vW",
        "colab": {
          "base_uri": "https://localhost:8080/"
        },
        "outputId": "55d92b4b-7148-449c-a2b3-843fd8394d23"
      },
      "source": [
        "GBC.fit(x_train, y_train)"
      ],
      "execution_count": null,
      "outputs": [
        {
          "output_type": "execute_result",
          "data": {
            "text/plain": [
              "GradientBoostingClassifier(ccp_alpha=0.0, criterion='friedman_mse', init=None,\n",
              "                           learning_rate=0.1, loss='deviance', max_depth=3,\n",
              "                           max_features=None, max_leaf_nodes=None,\n",
              "                           min_impurity_decrease=0.0, min_impurity_split=None,\n",
              "                           min_samples_leaf=1, min_samples_split=2,\n",
              "                           min_weight_fraction_leaf=0.0, n_estimators=100,\n",
              "                           n_iter_no_change=None, presort='deprecated',\n",
              "                           random_state=None, subsample=1.0, tol=0.0001,\n",
              "                           validation_fraction=0.1, verbose=0,\n",
              "                           warm_start=False)"
            ]
          },
          "metadata": {
            "tags": []
          },
          "execution_count": 75
        }
      ]
    },
    {
      "cell_type": "code",
      "metadata": {
        "id": "lNLXRvRZd3nX",
        "colab": {
          "base_uri": "https://localhost:8080/"
        },
        "outputId": "4059fa3d-473f-452f-a143-bf234f7470a5"
      },
      "source": [
        "print('Extra Tree Classifier Training Score :',GBC.score(x_train, y_train))\n",
        "print('Extra Tree Classifier Test Score :',GBC.score(x_test, y_test))"
      ],
      "execution_count": null,
      "outputs": [
        {
          "output_type": "stream",
          "text": [
            "Extra Tree Classifier Training Score : 0.7517396184062851\n",
            "Extra Tree Classifier Test Score : 0.7406659184436962\n"
          ],
          "name": "stdout"
        }
      ]
    },
    {
      "cell_type": "code",
      "metadata": {
        "id": "F5dTcsndd-gs",
        "colab": {
          "base_uri": "https://localhost:8080/"
        },
        "outputId": "02b802bf-e4dd-477d-80f5-837c5f57a145"
      },
      "source": [
        "etcpredicted = GBC.predict(x_test)\n",
        "report = classification_report(y_test, etcpredicted)\n",
        "print(report)"
      ],
      "execution_count": null,
      "outputs": [
        {
          "output_type": "stream",
          "text": [
            "              precision    recall  f1-score   support\n",
            "\n",
            "           0       0.60      0.04      0.07       970\n",
            "           1       0.71      0.91      0.80      7290\n",
            "           2       0.81      0.63      0.70      5105\n",
            "\n",
            "    accuracy                           0.74     13365\n",
            "   macro avg       0.71      0.53      0.53     13365\n",
            "weighted avg       0.74      0.74      0.71     13365\n",
            "\n"
          ],
          "name": "stdout"
        }
      ]
    },
    {
      "cell_type": "markdown",
      "metadata": {
        "id": "NgLSjqllfn7k"
      },
      "source": [
        "#PART 5&6: IMPORTANCE OF EACH VARIABLE USING RECURSIVE FEATURE ELIMINATION"
      ]
    },
    {
      "cell_type": "markdown",
      "metadata": {
        "id": "TU7jy7oWkzAo"
      },
      "source": [
        "# tsne"
      ]
    },
    {
      "cell_type": "code",
      "metadata": {
        "id": "bCvGl1n4lcM2"
      },
      "source": [
        "i=data_train[\"status_group\"]"
      ],
      "execution_count": null,
      "outputs": []
    },
    {
      "cell_type": "code",
      "metadata": {
        "id": "uRTAUntgeB77",
        "colab": {
          "base_uri": "https://localhost:8080/",
          "height": 497
        },
        "outputId": "c850ea92-cc05-4625-c310-92e8a7f3eedf"
      },
      "source": [
        "from sklearn.manifold import TSNE\n",
        "# picking only top 2000 points as the time taken fir all the points are extremely large \n",
        "data_2000=data_train_n.iloc[0:2000,:]\n",
        "tagets_2000=i[0:2000]\n",
        "model=TSNE(n_components=2, random_state=0)\n",
        "tsne_data=model.fit_transform(data_2000)\n",
        "# creasting the new data which helps in plotting the result:\n",
        "tsne_data=np.vstack((tsne_data.T, tagets_2000)).T\n",
        "tsne_df=pd.DataFrame(data=tsne_data, columns=(\"dimension_1\",\"dimension_2\",\"target\"))\n",
        "\n",
        "# plotting the result of tsne\n",
        "sns.FacetGrid(tsne_df, hue=\"target\", size=6).map(plt.scatter,\"dimension_1\",\"dimension_2\",\"target\")\n",
        "plt.show()"
      ],
      "execution_count": null,
      "outputs": [
        {
          "output_type": "stream",
          "text": [
            "/usr/local/lib/python3.7/dist-packages/seaborn/axisgrid.py:316: UserWarning: The `size` parameter has been renamed to `height`; please update your code.\n",
            "  warnings.warn(msg, UserWarning)\n"
          ],
          "name": "stderr"
        },
        {
          "output_type": "display_data",
          "data": {
            "image/png": "[encoded data removed]",
            "text/plain": [
              "<Figure size 432x432 with 1 Axes>"
            ]
          },
          "metadata": {
            "tags": [],
            "needs_background": "light"
          }
        }
      ]
    },
    {
      "cell_type": "markdown",
      "metadata": {
        "id": "cnJqT8pUohRH"
      },
      "source": [
        "# PART7:SUBMITTING THE FINAL LABLES\n"
      ]
    },
    {
      "cell_type": "code",
      "metadata": {
        "id": "OQ3oUm7ph0NJ",
        "colab": {
          "base_uri": "https://localhost:8080/"
        },
        "outputId": "62870f34-46a2-42df-9590-938e319d9b1f"
      },
      "source": [
        "data_train_n.columns"
      ],
      "execution_count": null,
      "outputs": [
        {
          "output_type": "execute_result",
          "data": {
            "text/plain": [
              "Index(['amount_tsh', 'funder', 'gps_height', 'installer', 'basin',\n",
              "       'subvillage', 'population', 'public_meeting', 'scheme_management',\n",
              "       'scheme_name', 'permit', 'construction_year', 'extraction_type',\n",
              "       'payment_type', 'water_quality', 'quantity_group', 'source_type',\n",
              "       'source_class', 'waterpoint_type', 'waterpoint_type_group'],\n",
              "      dtype='object')"
            ]
          },
          "metadata": {
            "tags": []
          },
          "execution_count": 80
        }
      ]
    },
    {
      "cell_type": "code",
      "metadata": {
        "id": "HpuNJex-ov4S",
        "colab": {
          "base_uri": "https://localhost:8080/",
          "height": 444
        },
        "outputId": "a2bf0dfc-dc67-47f9-801d-d01cf3aebed0"
      },
      "source": [
        "# final data which we use after all the data preprocessing\n",
        "data_train_n"
      ],
      "execution_count": null,
      "outputs": [
        {
          "output_type": "execute_result",
          "data": {
            "text/html": [
              "<div>\n",
              "<style scoped>\n",
              "    .dataframe tbody tr th:only-of-type {\n",
              "        vertical-align: middle;\n",
              "    }\n",
              "\n",
              "    .dataframe tbody tr th {\n",
              "        vertical-align: top;\n",
              "    }\n",
              "\n",
              "    .dataframe thead th {\n",
              "        text-align: right;\n",
              "    }\n",
              "</style>\n",
              "<table border=\"1\" class=\"dataframe\">\n",
              "  <thead>\n",
              "    <tr style=\"text-align: right;\">\n",
              "      <th></th>\n",
              "      <th>amount_tsh</th>\n",
              "      <th>funder</th>\n",
              "      <th>gps_height</th>\n",
              "      <th>installer</th>\n",
              "      <th>basin</th>\n",
              "      <th>subvillage</th>\n",
              "      <th>population</th>\n",
              "      <th>public_meeting</th>\n",
              "      <th>scheme_management</th>\n",
              "      <th>scheme_name</th>\n",
              "      <th>permit</th>\n",
              "      <th>construction_year</th>\n",
              "      <th>extraction_type</th>\n",
              "      <th>payment_type</th>\n",
              "      <th>water_quality</th>\n",
              "      <th>quantity_group</th>\n",
              "      <th>source_type</th>\n",
              "      <th>source_class</th>\n",
              "      <th>waterpoint_type</th>\n",
              "      <th>waterpoint_type_group</th>\n",
              "    </tr>\n",
              "  </thead>\n",
              "  <tbody>\n",
              "    <tr>\n",
              "      <th>0</th>\n",
              "      <td>5</td>\n",
              "      <td>10</td>\n",
              "      <td>1203</td>\n",
              "      <td>1</td>\n",
              "      <td>5</td>\n",
              "      <td>14701</td>\n",
              "      <td>90</td>\n",
              "      <td>1</td>\n",
              "      <td>7</td>\n",
              "      <td>10</td>\n",
              "      <td>1</td>\n",
              "      <td>49</td>\n",
              "      <td>3</td>\n",
              "      <td>6</td>\n",
              "      <td>4</td>\n",
              "      <td>4</td>\n",
              "      <td>3</td>\n",
              "      <td>1</td>\n",
              "      <td>5</td>\n",
              "      <td>4</td>\n",
              "    </tr>\n",
              "    <tr>\n",
              "      <th>1</th>\n",
              "      <td>0</td>\n",
              "      <td>10</td>\n",
              "      <td>1409</td>\n",
              "      <td>10</td>\n",
              "      <td>2</td>\n",
              "      <td>13378</td>\n",
              "      <td>70</td>\n",
              "      <td>0</td>\n",
              "      <td>2</td>\n",
              "      <td>10</td>\n",
              "      <td>0</td>\n",
              "      <td>25</td>\n",
              "      <td>3</td>\n",
              "      <td>0</td>\n",
              "      <td>4</td>\n",
              "      <td>4</td>\n",
              "      <td>3</td>\n",
              "      <td>1</td>\n",
              "      <td>5</td>\n",
              "      <td>4</td>\n",
              "    </tr>\n",
              "    <tr>\n",
              "      <th>2</th>\n",
              "      <td>0</td>\n",
              "      <td>12</td>\n",
              "      <td>1572</td>\n",
              "      <td>5</td>\n",
              "      <td>5</td>\n",
              "      <td>8429</td>\n",
              "      <td>150</td>\n",
              "      <td>1</td>\n",
              "      <td>5</td>\n",
              "      <td>10</td>\n",
              "      <td>1</td>\n",
              "      <td>43</td>\n",
              "      <td>3</td>\n",
              "      <td>0</td>\n",
              "      <td>4</td>\n",
              "      <td>3</td>\n",
              "      <td>3</td>\n",
              "      <td>1</td>\n",
              "      <td>5</td>\n",
              "      <td>4</td>\n",
              "    </tr>\n",
              "    <tr>\n",
              "      <th>3</th>\n",
              "      <td>0</td>\n",
              "      <td>0</td>\n",
              "      <td>0</td>\n",
              "      <td>3</td>\n",
              "      <td>3</td>\n",
              "      <td>11193</td>\n",
              "      <td>0</td>\n",
              "      <td>1</td>\n",
              "      <td>5</td>\n",
              "      <td>10</td>\n",
              "      <td>1</td>\n",
              "      <td>0</td>\n",
              "      <td>3</td>\n",
              "      <td>4</td>\n",
              "      <td>4</td>\n",
              "      <td>3</td>\n",
              "      <td>1</td>\n",
              "      <td>2</td>\n",
              "      <td>5</td>\n",
              "      <td>4</td>\n",
              "    </tr>\n",
              "    <tr>\n",
              "      <th>4</th>\n",
              "      <td>57</td>\n",
              "      <td>0</td>\n",
              "      <td>1283</td>\n",
              "      <td>3</td>\n",
              "      <td>5</td>\n",
              "      <td>3935</td>\n",
              "      <td>34</td>\n",
              "      <td>1</td>\n",
              "      <td>5</td>\n",
              "      <td>10</td>\n",
              "      <td>0</td>\n",
              "      <td>48</td>\n",
              "      <td>3</td>\n",
              "      <td>2</td>\n",
              "      <td>4</td>\n",
              "      <td>3</td>\n",
              "      <td>3</td>\n",
              "      <td>1</td>\n",
              "      <td>5</td>\n",
              "      <td>4</td>\n",
              "    </tr>\n",
              "    <tr>\n",
              "      <th>...</th>\n",
              "      <td>...</td>\n",
              "      <td>...</td>\n",
              "      <td>...</td>\n",
              "      <td>...</td>\n",
              "      <td>...</td>\n",
              "      <td>...</td>\n",
              "      <td>...</td>\n",
              "      <td>...</td>\n",
              "      <td>...</td>\n",
              "      <td>...</td>\n",
              "      <td>...</td>\n",
              "      <td>...</td>\n",
              "      <td>...</td>\n",
              "      <td>...</td>\n",
              "      <td>...</td>\n",
              "      <td>...</td>\n",
              "      <td>...</td>\n",
              "      <td>...</td>\n",
              "      <td>...</td>\n",
              "      <td>...</td>\n",
              "    </tr>\n",
              "    <tr>\n",
              "      <th>44545</th>\n",
              "      <td>0</td>\n",
              "      <td>9</td>\n",
              "      <td>0</td>\n",
              "      <td>10</td>\n",
              "      <td>1</td>\n",
              "      <td>12456</td>\n",
              "      <td>0</td>\n",
              "      <td>1</td>\n",
              "      <td>9</td>\n",
              "      <td>10</td>\n",
              "      <td>1</td>\n",
              "      <td>0</td>\n",
              "      <td>10</td>\n",
              "      <td>1</td>\n",
              "      <td>6</td>\n",
              "      <td>4</td>\n",
              "      <td>6</td>\n",
              "      <td>1</td>\n",
              "      <td>0</td>\n",
              "      <td>0</td>\n",
              "    </tr>\n",
              "    <tr>\n",
              "      <th>44546</th>\n",
              "      <td>0</td>\n",
              "      <td>10</td>\n",
              "      <td>0</td>\n",
              "      <td>10</td>\n",
              "      <td>0</td>\n",
              "      <td>16574</td>\n",
              "      <td>0</td>\n",
              "      <td>1</td>\n",
              "      <td>3</td>\n",
              "      <td>10</td>\n",
              "      <td>1</td>\n",
              "      <td>0</td>\n",
              "      <td>13</td>\n",
              "      <td>2</td>\n",
              "      <td>4</td>\n",
              "      <td>4</td>\n",
              "      <td>0</td>\n",
              "      <td>1</td>\n",
              "      <td>0</td>\n",
              "      <td>0</td>\n",
              "    </tr>\n",
              "    <tr>\n",
              "      <th>44547</th>\n",
              "      <td>0</td>\n",
              "      <td>12</td>\n",
              "      <td>969</td>\n",
              "      <td>10</td>\n",
              "      <td>6</td>\n",
              "      <td>10208</td>\n",
              "      <td>60</td>\n",
              "      <td>2</td>\n",
              "      <td>5</td>\n",
              "      <td>9</td>\n",
              "      <td>2</td>\n",
              "      <td>18</td>\n",
              "      <td>3</td>\n",
              "      <td>1</td>\n",
              "      <td>4</td>\n",
              "      <td>1</td>\n",
              "      <td>3</td>\n",
              "      <td>1</td>\n",
              "      <td>5</td>\n",
              "      <td>4</td>\n",
              "    </tr>\n",
              "    <tr>\n",
              "      <th>44548</th>\n",
              "      <td>45</td>\n",
              "      <td>10</td>\n",
              "      <td>1269</td>\n",
              "      <td>10</td>\n",
              "      <td>5</td>\n",
              "      <td>13354</td>\n",
              "      <td>80</td>\n",
              "      <td>1</td>\n",
              "      <td>10</td>\n",
              "      <td>10</td>\n",
              "      <td>1</td>\n",
              "      <td>52</td>\n",
              "      <td>3</td>\n",
              "      <td>2</td>\n",
              "      <td>4</td>\n",
              "      <td>3</td>\n",
              "      <td>3</td>\n",
              "      <td>1</td>\n",
              "      <td>5</td>\n",
              "      <td>4</td>\n",
              "    </tr>\n",
              "    <tr>\n",
              "      <th>44549</th>\n",
              "      <td>0</td>\n",
              "      <td>9</td>\n",
              "      <td>0</td>\n",
              "      <td>10</td>\n",
              "      <td>1</td>\n",
              "      <td>5899</td>\n",
              "      <td>0</td>\n",
              "      <td>1</td>\n",
              "      <td>5</td>\n",
              "      <td>10</td>\n",
              "      <td>0</td>\n",
              "      <td>0</td>\n",
              "      <td>10</td>\n",
              "      <td>3</td>\n",
              "      <td>4</td>\n",
              "      <td>4</td>\n",
              "      <td>6</td>\n",
              "      <td>1</td>\n",
              "      <td>0</td>\n",
              "      <td>0</td>\n",
              "    </tr>\n",
              "  </tbody>\n",
              "</table>\n",
              "<p>44550 rows × 20 columns</p>\n",
              "</div>"
            ],
            "text/plain": [
              "       amount_tsh  funder  ...  waterpoint_type  waterpoint_type_group\n",
              "0               5      10  ...                5                      4\n",
              "1               0      10  ...                5                      4\n",
              "2               0      12  ...                5                      4\n",
              "3               0       0  ...                5                      4\n",
              "4              57       0  ...                5                      4\n",
              "...           ...     ...  ...              ...                    ...\n",
              "44545           0       9  ...                0                      0\n",
              "44546           0      10  ...                0                      0\n",
              "44547           0      12  ...                5                      4\n",
              "44548          45      10  ...                5                      4\n",
              "44549           0       9  ...                0                      0\n",
              "\n",
              "[44550 rows x 20 columns]"
            ]
          },
          "metadata": {
            "tags": []
          },
          "execution_count": 81
        }
      ]
    },
    {
      "cell_type": "code",
      "metadata": {
        "id": "ZPOvfw4QpI8B"
      },
      "source": [
        "#final lable\n",
        "i.to_csv('final_label.csv', index=True)"
      ],
      "execution_count": null,
      "outputs": []
    },
    {
      "cell_type": "code",
      "metadata": {
        "id": "GbbgIUWMpai5"
      },
      "source": [
        "final_l=pd.read_csv(\"final_label.csv\")"
      ],
      "execution_count": null,
      "outputs": []
    },
    {
      "cell_type": "code",
      "metadata": {
        "id": "NuyLy4ZZpwxS"
      },
      "source": [
        "final_l=final_l.drop([\"Unnamed: 0\"],axis=1)"
      ],
      "execution_count": null,
      "outputs": []
    },
    {
      "cell_type": "code",
      "metadata": {
        "id": "hLduaLR1p28N",
        "colab": {
          "base_uri": "https://localhost:8080/",
          "height": 677
        },
        "outputId": "bd5aab4e-c2f3-4276-d1f5-747bcc8be6f2"
      },
      "source": [
        "final_l.head(20)"
      ],
      "execution_count": null,
      "outputs": [
        {
          "output_type": "execute_result",
          "data": {
            "text/html": [
              "<div>\n",
              "<style scoped>\n",
              "    .dataframe tbody tr th:only-of-type {\n",
              "        vertical-align: middle;\n",
              "    }\n",
              "\n",
              "    .dataframe tbody tr th {\n",
              "        vertical-align: top;\n",
              "    }\n",
              "\n",
              "    .dataframe thead th {\n",
              "        text-align: right;\n",
              "    }\n",
              "</style>\n",
              "<table border=\"1\" class=\"dataframe\">\n",
              "  <thead>\n",
              "    <tr style=\"text-align: right;\">\n",
              "      <th></th>\n",
              "      <th>status_group</th>\n",
              "    </tr>\n",
              "  </thead>\n",
              "  <tbody>\n",
              "    <tr>\n",
              "      <th>0</th>\n",
              "      <td>1</td>\n",
              "    </tr>\n",
              "    <tr>\n",
              "      <th>1</th>\n",
              "      <td>1</td>\n",
              "    </tr>\n",
              "    <tr>\n",
              "      <th>2</th>\n",
              "      <td>2</td>\n",
              "    </tr>\n",
              "    <tr>\n",
              "      <th>3</th>\n",
              "      <td>1</td>\n",
              "    </tr>\n",
              "    <tr>\n",
              "      <th>4</th>\n",
              "      <td>1</td>\n",
              "    </tr>\n",
              "    <tr>\n",
              "      <th>5</th>\n",
              "      <td>2</td>\n",
              "    </tr>\n",
              "    <tr>\n",
              "      <th>6</th>\n",
              "      <td>2</td>\n",
              "    </tr>\n",
              "    <tr>\n",
              "      <th>7</th>\n",
              "      <td>1</td>\n",
              "    </tr>\n",
              "    <tr>\n",
              "      <th>8</th>\n",
              "      <td>1</td>\n",
              "    </tr>\n",
              "    <tr>\n",
              "      <th>9</th>\n",
              "      <td>0</td>\n",
              "    </tr>\n",
              "    <tr>\n",
              "      <th>10</th>\n",
              "      <td>1</td>\n",
              "    </tr>\n",
              "    <tr>\n",
              "      <th>11</th>\n",
              "      <td>2</td>\n",
              "    </tr>\n",
              "    <tr>\n",
              "      <th>12</th>\n",
              "      <td>2</td>\n",
              "    </tr>\n",
              "    <tr>\n",
              "      <th>13</th>\n",
              "      <td>2</td>\n",
              "    </tr>\n",
              "    <tr>\n",
              "      <th>14</th>\n",
              "      <td>0</td>\n",
              "    </tr>\n",
              "    <tr>\n",
              "      <th>15</th>\n",
              "      <td>1</td>\n",
              "    </tr>\n",
              "    <tr>\n",
              "      <th>16</th>\n",
              "      <td>1</td>\n",
              "    </tr>\n",
              "    <tr>\n",
              "      <th>17</th>\n",
              "      <td>2</td>\n",
              "    </tr>\n",
              "    <tr>\n",
              "      <th>18</th>\n",
              "      <td>2</td>\n",
              "    </tr>\n",
              "    <tr>\n",
              "      <th>19</th>\n",
              "      <td>1</td>\n",
              "    </tr>\n",
              "  </tbody>\n",
              "</table>\n",
              "</div>"
            ],
            "text/plain": [
              "    status_group\n",
              "0              1\n",
              "1              1\n",
              "2              2\n",
              "3              1\n",
              "4              1\n",
              "5              2\n",
              "6              2\n",
              "7              1\n",
              "8              1\n",
              "9              0\n",
              "10             1\n",
              "11             2\n",
              "12             2\n",
              "13             2\n",
              "14             0\n",
              "15             1\n",
              "16             1\n",
              "17             2\n",
              "18             2\n",
              "19             1"
            ]
          },
          "metadata": {
            "tags": []
          },
          "execution_count": 85
        }
      ]
    },
    {
      "cell_type": "markdown",
      "metadata": {
        "id": "LUXk5lFjqvk7"
      },
      "source": [
        "PROCESSING OF THE TEST DATA"
      ]
    },
    {
      "cell_type": "code",
      "metadata": {
        "id": "cJkVnTK3qVpG"
      },
      "source": [
        "data_test = data_test.drop(['longitude', 'latitude', 'region_code', 'district_code',\n",
        "                  'num_private', 'id', 'payment', 'management_group', 'management', \n",
        "                  'extraction_type_class', 'extraction_type_group', 'recorded_by','region', 'lga',\n",
        "                  'ward', 'wpt_name', 'quantity',\n",
        "                 'quality_group', 'source'], axis=1)"
      ],
      "execution_count": null,
      "outputs": []
    },
    {
      "cell_type": "code",
      "metadata": {
        "id": "lBi24rQlrS7Q"
      },
      "source": [
        "data_test.permit = data_test.permit.fillna('Unknown')\n",
        "data_test.public_meeting = data_test.public_meeting.fillna('Unknown')"
      ],
      "execution_count": null,
      "outputs": []
    },
    {
      "cell_type": "code",
      "metadata": {
        "id": "YYBcSnO1rghW"
      },
      "source": [
        "data_test['scheme_name'] = data_test.apply(lambda row: scheme_name_column(row), axis=1)\n",
        "data_test['installer'] = data_test.apply(lambda row: installer_column(row), axis=1)\n",
        "data_test['funder'] = data_test.apply(lambda row: funder_column(row), axis=1)\n",
        "data_test['extraction_type'] = data_test.apply(lambda row: extraction_type_column(row), axis=1)"
      ],
      "execution_count": null,
      "outputs": []
    },
    {
      "cell_type": "code",
      "metadata": {
        "id": "cMXz-VR-sXzc",
        "colab": {
          "base_uri": "https://localhost:8080/",
          "height": 617
        },
        "outputId": "8bd8c5b4-5f0c-48cb-ca17-4bcad7053377"
      },
      "source": [
        "data_test"
      ],
      "execution_count": null,
      "outputs": [
        {
          "output_type": "execute_result",
          "data": {
            "text/html": [
              "<div>\n",
              "<style scoped>\n",
              "    .dataframe tbody tr th:only-of-type {\n",
              "        vertical-align: middle;\n",
              "    }\n",
              "\n",
              "    .dataframe tbody tr th {\n",
              "        vertical-align: top;\n",
              "    }\n",
              "\n",
              "    .dataframe thead th {\n",
              "        text-align: right;\n",
              "    }\n",
              "</style>\n",
              "<table border=\"1\" class=\"dataframe\">\n",
              "  <thead>\n",
              "    <tr style=\"text-align: right;\">\n",
              "      <th></th>\n",
              "      <th>Unnamed: 0</th>\n",
              "      <th>amount_tsh</th>\n",
              "      <th>date_recorded</th>\n",
              "      <th>funder</th>\n",
              "      <th>gps_height</th>\n",
              "      <th>installer</th>\n",
              "      <th>basin</th>\n",
              "      <th>subvillage</th>\n",
              "      <th>population</th>\n",
              "      <th>public_meeting</th>\n",
              "      <th>scheme_management</th>\n",
              "      <th>scheme_name</th>\n",
              "      <th>permit</th>\n",
              "      <th>construction_year</th>\n",
              "      <th>extraction_type</th>\n",
              "      <th>payment_type</th>\n",
              "      <th>water_quality</th>\n",
              "      <th>quantity_group</th>\n",
              "      <th>source_type</th>\n",
              "      <th>source_class</th>\n",
              "      <th>waterpoint_type</th>\n",
              "      <th>waterpoint_type_group</th>\n",
              "    </tr>\n",
              "  </thead>\n",
              "  <tbody>\n",
              "    <tr>\n",
              "      <th>0</th>\n",
              "      <td>0</td>\n",
              "      <td>0.0</td>\n",
              "      <td>2011-02-25</td>\n",
              "      <td>other</td>\n",
              "      <td>1676</td>\n",
              "      <td>other</td>\n",
              "      <td>Rufiji</td>\n",
              "      <td>Mahanzi</td>\n",
              "      <td>769</td>\n",
              "      <td>True</td>\n",
              "      <td>VWC</td>\n",
              "      <td>other</td>\n",
              "      <td>True</td>\n",
              "      <td>2004</td>\n",
              "      <td>gravity</td>\n",
              "      <td>never pay</td>\n",
              "      <td>soft</td>\n",
              "      <td>dry</td>\n",
              "      <td>spring</td>\n",
              "      <td>groundwater</td>\n",
              "      <td>communal standpipe</td>\n",
              "      <td>communal standpipe</td>\n",
              "    </tr>\n",
              "    <tr>\n",
              "      <th>1</th>\n",
              "      <td>1</td>\n",
              "      <td>0.0</td>\n",
              "      <td>2011-04-17</td>\n",
              "      <td>other</td>\n",
              "      <td>0</td>\n",
              "      <td>DWE</td>\n",
              "      <td>Wami / Ruvu</td>\n",
              "      <td>Uzunguni</td>\n",
              "      <td>0</td>\n",
              "      <td>True</td>\n",
              "      <td>VWC</td>\n",
              "      <td>other</td>\n",
              "      <td>False</td>\n",
              "      <td>0</td>\n",
              "      <td>other</td>\n",
              "      <td>never pay</td>\n",
              "      <td>soft</td>\n",
              "      <td>enough</td>\n",
              "      <td>borehole</td>\n",
              "      <td>groundwater</td>\n",
              "      <td>communal standpipe</td>\n",
              "      <td>communal standpipe</td>\n",
              "    </tr>\n",
              "    <tr>\n",
              "      <th>2</th>\n",
              "      <td>2</td>\n",
              "      <td>0.0</td>\n",
              "      <td>2011-03-27</td>\n",
              "      <td>other</td>\n",
              "      <td>0</td>\n",
              "      <td>other</td>\n",
              "      <td>Rufiji</td>\n",
              "      <td>Uganda</td>\n",
              "      <td>0</td>\n",
              "      <td>True</td>\n",
              "      <td>VWC</td>\n",
              "      <td>other</td>\n",
              "      <td>True</td>\n",
              "      <td>0</td>\n",
              "      <td>other</td>\n",
              "      <td>never pay</td>\n",
              "      <td>soft</td>\n",
              "      <td>enough</td>\n",
              "      <td>shallow well</td>\n",
              "      <td>groundwater</td>\n",
              "      <td>hand pump</td>\n",
              "      <td>hand pump</td>\n",
              "    </tr>\n",
              "    <tr>\n",
              "      <th>3</th>\n",
              "      <td>3</td>\n",
              "      <td>0.0</td>\n",
              "      <td>2011-07-14</td>\n",
              "      <td>other</td>\n",
              "      <td>0</td>\n",
              "      <td>other</td>\n",
              "      <td>Lake Victoria</td>\n",
              "      <td>Nyamilanda A</td>\n",
              "      <td>0</td>\n",
              "      <td>True</td>\n",
              "      <td>VWC</td>\n",
              "      <td>other</td>\n",
              "      <td>True</td>\n",
              "      <td>0</td>\n",
              "      <td>other</td>\n",
              "      <td>never pay</td>\n",
              "      <td>soft</td>\n",
              "      <td>enough</td>\n",
              "      <td>shallow well</td>\n",
              "      <td>groundwater</td>\n",
              "      <td>hand pump</td>\n",
              "      <td>hand pump</td>\n",
              "    </tr>\n",
              "    <tr>\n",
              "      <th>4</th>\n",
              "      <td>4</td>\n",
              "      <td>0.0</td>\n",
              "      <td>2011-07-31</td>\n",
              "      <td>World Vision</td>\n",
              "      <td>0</td>\n",
              "      <td>other</td>\n",
              "      <td>Lake Victoria</td>\n",
              "      <td>Ibosa</td>\n",
              "      <td>0</td>\n",
              "      <td>True</td>\n",
              "      <td>VWC</td>\n",
              "      <td>other</td>\n",
              "      <td>True</td>\n",
              "      <td>0</td>\n",
              "      <td>gravity</td>\n",
              "      <td>never pay</td>\n",
              "      <td>soft</td>\n",
              "      <td>insufficient</td>\n",
              "      <td>rainwater harvesting</td>\n",
              "      <td>surface</td>\n",
              "      <td>communal standpipe</td>\n",
              "      <td>communal standpipe</td>\n",
              "    </tr>\n",
              "    <tr>\n",
              "      <th>...</th>\n",
              "      <td>...</td>\n",
              "      <td>...</td>\n",
              "      <td>...</td>\n",
              "      <td>...</td>\n",
              "      <td>...</td>\n",
              "      <td>...</td>\n",
              "      <td>...</td>\n",
              "      <td>...</td>\n",
              "      <td>...</td>\n",
              "      <td>...</td>\n",
              "      <td>...</td>\n",
              "      <td>...</td>\n",
              "      <td>...</td>\n",
              "      <td>...</td>\n",
              "      <td>...</td>\n",
              "      <td>...</td>\n",
              "      <td>...</td>\n",
              "      <td>...</td>\n",
              "      <td>...</td>\n",
              "      <td>...</td>\n",
              "      <td>...</td>\n",
              "      <td>...</td>\n",
              "    </tr>\n",
              "    <tr>\n",
              "      <th>6113</th>\n",
              "      <td>6113</td>\n",
              "      <td>0.0</td>\n",
              "      <td>2013-08-03</td>\n",
              "      <td>World Vision</td>\n",
              "      <td>541</td>\n",
              "      <td>other</td>\n",
              "      <td>Pangani</td>\n",
              "      <td>Mpirani</td>\n",
              "      <td>240</td>\n",
              "      <td>True</td>\n",
              "      <td>Water authority</td>\n",
              "      <td>other</td>\n",
              "      <td>True</td>\n",
              "      <td>1994</td>\n",
              "      <td>gravity</td>\n",
              "      <td>never pay</td>\n",
              "      <td>soft</td>\n",
              "      <td>enough</td>\n",
              "      <td>river/lake</td>\n",
              "      <td>surface</td>\n",
              "      <td>communal standpipe</td>\n",
              "      <td>communal standpipe</td>\n",
              "    </tr>\n",
              "    <tr>\n",
              "      <th>6114</th>\n",
              "      <td>6114</td>\n",
              "      <td>0.0</td>\n",
              "      <td>2011-07-12</td>\n",
              "      <td>other</td>\n",
              "      <td>0</td>\n",
              "      <td>other</td>\n",
              "      <td>Lake Victoria</td>\n",
              "      <td>Miembeni</td>\n",
              "      <td>0</td>\n",
              "      <td>True</td>\n",
              "      <td>VWC</td>\n",
              "      <td>other</td>\n",
              "      <td>True</td>\n",
              "      <td>0</td>\n",
              "      <td>other</td>\n",
              "      <td>never pay</td>\n",
              "      <td>soft</td>\n",
              "      <td>insufficient</td>\n",
              "      <td>borehole</td>\n",
              "      <td>groundwater</td>\n",
              "      <td>communal standpipe multiple</td>\n",
              "      <td>communal standpipe</td>\n",
              "    </tr>\n",
              "    <tr>\n",
              "      <th>6115</th>\n",
              "      <td>6115</td>\n",
              "      <td>0.0</td>\n",
              "      <td>2011-07-19</td>\n",
              "      <td>other</td>\n",
              "      <td>0</td>\n",
              "      <td>other</td>\n",
              "      <td>Lake Victoria</td>\n",
              "      <td>1</td>\n",
              "      <td>0</td>\n",
              "      <td>False</td>\n",
              "      <td>VWC</td>\n",
              "      <td>other</td>\n",
              "      <td>True</td>\n",
              "      <td>0</td>\n",
              "      <td>other</td>\n",
              "      <td>never pay</td>\n",
              "      <td>soft</td>\n",
              "      <td>enough</td>\n",
              "      <td>shallow well</td>\n",
              "      <td>groundwater</td>\n",
              "      <td>other</td>\n",
              "      <td>other</td>\n",
              "    </tr>\n",
              "    <tr>\n",
              "      <th>6116</th>\n",
              "      <td>6116</td>\n",
              "      <td>0.0</td>\n",
              "      <td>2011-03-17</td>\n",
              "      <td>Government Of Tanzania</td>\n",
              "      <td>461</td>\n",
              "      <td>RWE</td>\n",
              "      <td>Wami / Ruvu</td>\n",
              "      <td>Majengo</td>\n",
              "      <td>140</td>\n",
              "      <td>True</td>\n",
              "      <td>VWC</td>\n",
              "      <td>Borehole</td>\n",
              "      <td>True</td>\n",
              "      <td>1977</td>\n",
              "      <td>gravity</td>\n",
              "      <td>never pay</td>\n",
              "      <td>soft</td>\n",
              "      <td>enough</td>\n",
              "      <td>borehole</td>\n",
              "      <td>groundwater</td>\n",
              "      <td>communal standpipe</td>\n",
              "      <td>communal standpipe</td>\n",
              "    </tr>\n",
              "    <tr>\n",
              "      <th>6117</th>\n",
              "      <td>6117</td>\n",
              "      <td>0.0</td>\n",
              "      <td>2013-02-22</td>\n",
              "      <td>Government Of Tanzania</td>\n",
              "      <td>855</td>\n",
              "      <td>DWE</td>\n",
              "      <td>Pangani</td>\n",
              "      <td>Manambeni</td>\n",
              "      <td>1</td>\n",
              "      <td>False</td>\n",
              "      <td>VWC</td>\n",
              "      <td>other</td>\n",
              "      <td>False</td>\n",
              "      <td>1963</td>\n",
              "      <td>gravity</td>\n",
              "      <td>unknown</td>\n",
              "      <td>soft</td>\n",
              "      <td>insuffici</td>\n",
              "      <td>NaN</td>\n",
              "      <td>NaN</td>\n",
              "      <td>NaN</td>\n",
              "      <td>NaN</td>\n",
              "    </tr>\n",
              "  </tbody>\n",
              "</table>\n",
              "<p>6118 rows × 22 columns</p>\n",
              "</div>"
            ],
            "text/plain": [
              "      Unnamed: 0  amount_tsh  ...              waterpoint_type waterpoint_type_group\n",
              "0              0         0.0  ...           communal standpipe    communal standpipe\n",
              "1              1         0.0  ...           communal standpipe    communal standpipe\n",
              "2              2         0.0  ...                    hand pump             hand pump\n",
              "3              3         0.0  ...                    hand pump             hand pump\n",
              "4              4         0.0  ...           communal standpipe    communal standpipe\n",
              "...          ...         ...  ...                          ...                   ...\n",
              "6113        6113         0.0  ...           communal standpipe    communal standpipe\n",
              "6114        6114         0.0  ...  communal standpipe multiple    communal standpipe\n",
              "6115        6115         0.0  ...                        other                 other\n",
              "6116        6116         0.0  ...           communal standpipe    communal standpipe\n",
              "6117        6117         0.0  ...                          NaN                   NaN\n",
              "\n",
              "[6118 rows x 22 columns]"
            ]
          },
          "metadata": {
            "tags": []
          },
          "execution_count": 89
        }
      ]
    },
    {
      "cell_type": "code",
      "metadata": {
        "id": "yxOBQ-Z-sc6I"
      },
      "source": [
        ""
      ],
      "execution_count": null,
      "outputs": []
    }
  ]
}